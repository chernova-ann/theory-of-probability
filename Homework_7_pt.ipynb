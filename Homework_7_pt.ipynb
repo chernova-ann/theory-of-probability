{
 "cells": [
  {
   "cell_type": "markdown",
   "metadata": {},
   "source": [
    "#### Задача 1\n",
    "\n",
    "Дана матрица объект-признак\n",
    "\n",
    "X = [[ 1.22401313, 2.30868478, 3.03636353, 2.69287214],\n",
    "[-0.18757272, 1.30337355, 5.12093014, 3.46363202],\n",
    "[-0.81094525, 1.82463398, 5.79686488, 1.86159445],\n",
    "[ 0.75129018, 2.67392052, 3.65529809, 1.66746094],\n",
    "[ 0.00972362, 1.97367255, 2.50594319, 1.69755173],\n",
    "[-0.62972637, 0.77750764, 2.84124027, 4.54410559],\n",
    "[ 2.29536229, 1.81206697, 1.95026215, 1.51874636],\n",
    "[ 0.0920418 , 2.26971361, 7.47708735, 2.61081203],\n",
    "[ 2.39252799, 3.17563985, 3.61420599, 5.10773362],\n",
    "[ 0.54983815, 2.87988651, 1.65752765, 1.59635987]]\n",
    "\n",
    "и значения целевой переменной\n",
    "\n",
    "y = [ 9.26193358, 9.700363 , 8.67214805, 8.74796974, 6.18689108,\n",
    "7.53312713, 7.57643777, 12.44965478, 14.29010746, 6.68361218]\n",
    "\n",
    "Подберите два признака (из четырёх) так, чтобы уровень линейной зависимости целевой переменной от значений этих признаков был максимальным. Другими словами, модель линейной регрессии на этих признаках должна давать наилучший результат.\n",
    "Является ли значимым получившееся уравнение регрессии?\n",
    "\n"
   ]
  },
  {
   "cell_type": "code",
   "execution_count": 1,
   "metadata": {},
   "outputs": [],
   "source": [
    "import numpy as np"
   ]
  },
  {
   "cell_type": "code",
   "execution_count": 2,
   "metadata": {},
   "outputs": [],
   "source": [
    "x = [[ 1.22401313, 2.30868478, 3.03636353, 2.69287214],\n",
    "     [-0.18757272, 1.30337355, 5.12093014, 3.46363202],\n",
    "     [-0.81094525, 1.82463398, 5.79686488, 1.86159445],\n",
    "     [ 0.75129018, 2.67392052, 3.65529809, 1.66746094],\n",
    "     [ 0.00972362, 1.97367255, 2.50594319, 1.69755173], \n",
    "     [-0.62972637, 0.77750764, 2.84124027, 4.54410559], \n",
    "     [ 2.29536229, 1.81206697, 1.95026215, 1.51874636],\n",
    "     [ 0.0920418 , 2.26971361, 7.47708735, 2.61081203], \n",
    "     [ 2.39252799, 3.17563985, 3.61420599, 5.10773362], \n",
    "     [ 0.54983815, 2.87988651, 1.65752765, 1.59635987]]\n",
    "\n",
    "x = np.array(x)\n",
    "\n",
    "y = [ 9.26193358, 9.700363 , 8.67214805, 8.74796974, 6.18689108, 7.53312713, 7.57643777, 12.44965478, 14.29010746, 6.68361218]\n",
    "\n",
    "y = np.array(y)"
   ]
  },
  {
   "cell_type": "markdown",
   "metadata": {},
   "source": [
    "__Метод наименьших квадратов__ заключается в минимизации расстояния между векторами $Y$ и $X \\cdot b$:\n",
    "$$\\| Y - X \\cdot b \\| \\rightarrow \\min_b$$\n",
    "При этом вводится дополнительное условие на среднюю ошибку:\n",
    "$$\\overline{E} = 0,$$\n",
    "где $E = Y - X \\cdot b$. Решение такой оптимизационной задачи даёт __коэффициенты линейной регрессии__:\n",
    "$$b = (X^\\top X)^{-1} X^\\top Y$$\n"
   ]
  },
  {
   "cell_type": "code",
   "execution_count": 3,
   "metadata": {},
   "outputs": [
    {
     "data": {
      "text/plain": [
       "(10, 4)"
      ]
     },
     "execution_count": 3,
     "metadata": {},
     "output_type": "execute_result"
    }
   ],
   "source": [
    "x.shape"
   ]
  },
  {
   "cell_type": "code",
   "execution_count": 4,
   "metadata": {},
   "outputs": [],
   "source": [
    "from itertools import combinations"
   ]
  },
  {
   "cell_type": "code",
   "execution_count": 9,
   "metadata": {},
   "outputs": [
    {
     "name": "stdout",
     "output_type": "stream",
     "text": [
      "0 1 0.18113594742585182\n",
      "0 2 0.7634246238793151\n",
      "0 3 0.4532966783144079\n",
      "1 2 0.5479482734039011\n",
      "1 3 0.6062055761129932\n",
      "2 3 0.6224419876505323\n"
     ]
    }
   ],
   "source": [
    "for i, j in combinations (range(x.shape[1]), 2):\n",
    "    ones = np.ones((x[:,[i,j]].shape[0], 1)) # Матрица из двух признаков скомбиинированных с помощью combinations.\n",
    "    x1 = np.hstack((ones, x[:, [i,j]])) #Добавляем единицу в начале матрицы (фиктивный фактор).\n",
    "    xTx = x1.T.dot(x1) # Матрица xTx\n",
    "    np.linalg.det(xTx) # Определитель матрицы\n",
    "    xTx_inv = np.linalg.inv(xTx) \n",
    "    b = xTx_inv.dot(x1.T).dot(y) # Коэффициент модели b\n",
    "    e = y - x1.dot(b)   # Вычисляем среднюю ошибку по формуле\n",
    "    r2 = 1 - e.var()/y.var() # Коэффициент детерминации\n",
    "    print(f'{i} {j} {r2}')"
   ]
  },
  {
   "cell_type": "markdown",
   "metadata": {},
   "source": [
    "Чем ближе коэффициент детерминации к единице, тем модель лучше. Значит, лучшая пара признаков - первый и третий (0 2 в таблице, r2 = 0.763424)"
   ]
  },
  {
   "cell_type": "markdown",
   "metadata": {},
   "source": [
    "__Статистический анализ__\n",
    "\n",
    "F-тест Фишера:\n",
    "$$F = \\dfrac{R^2 / m}{(1 - R^2) / (n - m - 1)},$$\n",
    "где $R^2$ — коэффициент детерминации, $n$ — число наблюдений, $m$ — число факторов. Такая статистика в предположении верности нулевой гипотезы имеет __F-распределение Фишера__ с параметрами $k_1 = m$, $k_2 = n - m - 1$."
   ]
  },
  {
   "cell_type": "code",
   "execution_count": 10,
   "metadata": {},
   "outputs": [
    {
     "data": {
      "text/plain": [
       "11.294439122922642"
      ]
     },
     "execution_count": 10,
     "metadata": {},
     "output_type": "execute_result"
    }
   ],
   "source": [
    "m = 2 # Проверяем два признака\n",
    "n = x.shape[0]\n",
    "k1 = m\n",
    "k2 = n-m-1\n",
    "\n",
    "F = (0.7634246238793151/k1)/((1-0.7634246238793151)/k2)\n",
    "F"
   ]
  },
  {
   "cell_type": "markdown",
   "metadata": {},
   "source": [
    "Вычисляем квантиль и критическую область. Возьмем alpha = 0.05"
   ]
  },
  {
   "cell_type": "code",
   "execution_count": 11,
   "metadata": {},
   "outputs": [],
   "source": [
    "from scipy import stats"
   ]
  },
  {
   "cell_type": "code",
   "execution_count": 12,
   "metadata": {},
   "outputs": [
    {
     "data": {
      "text/plain": [
       "4.73741412777588"
      ]
     },
     "execution_count": 12,
     "metadata": {},
     "output_type": "execute_result"
    }
   ],
   "source": [
    "alpha = 0.05\n",
    "\n",
    "t = stats.f.ppf(1 - alpha, k1, k2)\n",
    "t"
   ]
  },
  {
   "cell_type": "markdown",
   "metadata": {},
   "source": [
    "Итак, критическая область:\n",
    "$$\\Omega_\\alpha = \\left( 4.7374, \\infty \\right)$$\n",
    "F = 11.294439\n",
    "Значение статистки попало в критическую область, значит нулевая гипотеза отвергается (что теоретический коэффициент детерминации равен  0), следовательно линейная регрессия с факторами 1 и 3 статистически значима."
   ]
  },
  {
   "cell_type": "markdown",
   "metadata": {},
   "source": [
    "#### Задача 2\n",
    "\n",
    "Для проведения A/B-тестирования сайта интернет-магазина были получены следующие данные: страница A была посещена 2509 раз, из них 77 закончились совершением покупки, страница B была посещена 1465 раз, 60 из них закончились совершением покупки. Является ли значимым отличие конверсии на страницах A и B?"
   ]
  },
  {
   "cell_type": "code",
   "execution_count": 26,
   "metadata": {},
   "outputs": [
    {
     "name": "stdout",
     "output_type": "stream",
     "text": [
      "[1. 1. 1. ... 0. 0. 0.] (2509,)\n"
     ]
    }
   ],
   "source": [
    "a = np.ones(77) # значение 1 - совершенные покупки на странице А\n",
    "b = np.zeros(2432) #2509-77 - просмотры без покупок на странице А (значение 0).\n",
    "y1 = np.hstack((a,b)) # выборка страницы А\n",
    "print(y1, y1.shape) "
   ]
  },
  {
   "cell_type": "code",
   "execution_count": 28,
   "metadata": {},
   "outputs": [
    {
     "name": "stdout",
     "output_type": "stream",
     "text": [
      "[1. 1. 1. ... 0. 0. 0.] (1465,)\n"
     ]
    }
   ],
   "source": [
    "a = np.ones(60) # значение 1 - совершенные покупки на странице B\n",
    "b = np.zeros(1405) #1405-60 просмотры без покупок на странице А (значение 0).\n",
    "y2 = np.hstack((a,b)) # выборка страницы B\n",
    "print(y2, y2.shape)"
   ]
  },
  {
   "cell_type": "code",
   "execution_count": 29,
   "metadata": {},
   "outputs": [
    {
     "name": "stdout",
     "output_type": "stream",
     "text": [
      "[1. 1. 1. ... 0. 0. 0.] (3974,)\n"
     ]
    }
   ],
   "source": [
    "y = np.hstack((y1, y2)) # Общая выборка всех просмотров (с покупками и без)\n",
    "print(y, y.shape)"
   ]
  },
  {
   "cell_type": "markdown",
   "metadata": {},
   "source": [
    "#### Дисперсионный анализ \n",
    "Нулевая гипотеза $H_0$ утверждает, что средние по всем этим выборкам равны:\n",
    "$$H_0: \\:\\: \\overline{Y_1} = \\dots = \\overline{Y_k}$$\n",
    "\n",
    "Другими словами, нулевая гипотеза заключается в том, что фактор $x$ никак не влияет на значения переменной $y$.\n",
    "Пусть в каждой выборке  𝑌𝑖  содержится  𝑛𝑖  элементов. Обозначим через  𝑌  объединение всех выборок, т.е. выборку размера  𝑛=𝑛1+⋯+𝑛𝑘 ."
   ]
  },
  {
   "cell_type": "code",
   "execution_count": 31,
   "metadata": {},
   "outputs": [
    {
     "data": {
      "text/plain": [
       "(2509, 1465, 3974)"
      ]
     },
     "execution_count": 31,
     "metadata": {},
     "output_type": "execute_result"
    }
   ],
   "source": [
    "#Объем выборки\n",
    "n1 = y1.shape[0]\n",
    "n2 = y2.shape[0]\n",
    "n = n1+n2\n",
    "n1, n2, n"
   ]
  },
  {
   "cell_type": "markdown",
   "metadata": {},
   "source": [
    "Рассмотрим две суммы квадратов:\n",
    "$$SS_b = \\displaystyle\\sum_{i=1}^k \\left( \\overline{Y_i} - \\overline{Y} \\right)^2 n_i, \\:\\:\n",
    "SS_w = \\displaystyle\\sum_{i=1}^k \\displaystyle\\sum_{j=1}^{n_i} \\left( y_{ij} - \\overline{Y_i} \\right)^2,$$\n",
    "где $y_{ij}$ — $j$-й элемент $i$-й выборки.\n",
    "\n"
   ]
  },
  {
   "cell_type": "code",
   "execution_count": 33,
   "metadata": {},
   "outputs": [
    {
     "data": {
      "text/plain": [
       "(0.03068951773614986, 0.040955631399317405, 0.03447408152994464)"
      ]
     },
     "execution_count": 33,
     "metadata": {},
     "output_type": "execute_result"
    }
   ],
   "source": [
    "# Выборочное средние по каждой группе\n",
    "y1_mean = y1.mean() \n",
    "y2_mean = y2.mean()\n",
    "\n",
    "y_mean = y.mean() # Выборочне среднее всех групп\n",
    "y1_mean, y2_mean, y_mean"
   ]
  },
  {
   "cell_type": "code",
   "execution_count": 34,
   "metadata": {},
   "outputs": [
    {
     "data": {
      "text/plain": [
       "(0.09748158004016791, 132.17956925035745)"
      ]
     },
     "execution_count": 34,
     "metadata": {},
     "output_type": "execute_result"
    }
   ],
   "source": [
    "SS_b =  n1 * (y1_mean - y_mean) ** 2 + n2 * (y2_mean - y_mean) ** 2\n",
    "SS_w = ((y1 - y1_mean) ** 2).sum() + ((y2 - y2_mean) ** 2).sum()\n",
    "\n",
    "SS_b, SS_w"
   ]
  },
  {
   "cell_type": "markdown",
   "metadata": {},
   "source": [
    "По этим значениям вычисляются соответствующие несмещённые оценки дисперсий:\n",
    "$$\\sigma_b^2 = \\dfrac{SS_b}{k - 1}, \\:\\: \\sigma_w^2 = \\dfrac{SS_w}{n - k}$$"
   ]
  },
  {
   "cell_type": "code",
   "execution_count": 35,
   "metadata": {},
   "outputs": [
    {
     "data": {
      "text/plain": [
       "(0.09748158004016791, 0.03327783717279895)"
      ]
     },
     "execution_count": 35,
     "metadata": {},
     "output_type": "execute_result"
    }
   ],
   "source": [
    "k = 2\n",
    "n = n1 + n2\n",
    "\n",
    "k1 = k - 1\n",
    "k2 = n - k\n",
    "\n",
    "sigma2_b = SS_b / k1\n",
    "sigma2_w = SS_w / k2\n",
    "\n",
    "sigma2_b, sigma2_w"
   ]
  },
  {
   "cell_type": "markdown",
   "metadata": {},
   "source": [
    "Итак, статистика для проверки гипотезы $H_0$:\n",
    "$$F = \\dfrac{\\sigma_b^2}{\\sigma_w^2}$$"
   ]
  },
  {
   "cell_type": "code",
   "execution_count": 36,
   "metadata": {},
   "outputs": [
    {
     "data": {
      "text/plain": [
       "2.9293243889013496"
      ]
     },
     "execution_count": 36,
     "metadata": {},
     "output_type": "execute_result"
    }
   ],
   "source": [
    "F = sigma2_b / sigma2_w\n",
    "F"
   ]
  },
  {
   "cell_type": "markdown",
   "metadata": {},
   "source": [
    "Распределение Фишера с параметрами $k_1 = k - 1$, $k_2 = n - k$. Критическая область правосторонняя:\n",
    "$$\\Omega_\\alpha = \\left( t_{1 - \\alpha, \\: k_1, k_2}, \\infty \\right),$$"
   ]
  },
  {
   "cell_type": "code",
   "execution_count": 37,
   "metadata": {},
   "outputs": [
    {
     "data": {
      "text/plain": [
       "3.8438010503414866"
      ]
     },
     "execution_count": 37,
     "metadata": {},
     "output_type": "execute_result"
    }
   ],
   "source": [
    "#Зафиксируем уровень значимости  alpha=0.05 . Для него найдём нужный нам квантиль\n",
    "alpha = 0.05\n",
    "t = stats.f.ppf(1 - alpha, k1, k2)\n",
    "t"
   ]
  },
  {
   "cell_type": "markdown",
   "metadata": {},
   "source": [
    "Значение статистики не попало в критическую область, значит заключаем, что отличие конверсий не являются статистически значимым показателем."
   ]
  },
  {
   "cell_type": "markdown",
   "metadata": {},
   "source": [
    "#### Задача 3\n",
    "\n",
    "Квартет Энскомба — популярный в области анализа данных пример наборов данных, у которых практически совпадают все статистические свойства (средние, дисперсии, коэффициенты корреляции, регрессионные линии), однако, существенно отличаются графики. Данный пример призван показать, насколько важна визуализация данных. Датасет представляет собой 4 пары выборок:\n",
    "\n",
    "{\n",
    "    \"x1\": [10.0, 8.0, 13.0, 9.0, 11.0, 14.0, 6.0, 4.0, 12.0, 7.0, 5.0],\n",
    "    \n",
    "    \"y1\": [8.04, 6.95, 7.58, 8.81, 8.33, 9.96, 7.24, 4.26, 10.84, 4.82, 5.68],\n",
    "    \n",
    "    \"x2\": [10.0, 8.0, 13.0, 9.0, 11.0, 14.0, 6.0, 4.0, 12.0, 7.0, 5.0],\n",
    "    \n",
    "    \"y2\": [9.14, 8.14, 8.74, 8.77, 9.26, 8.1, 6.13, 3.1, 9.13, 7.26, 4.74],\n",
    "    \n",
    "    \"x3\": [10.0, 8.0, 13.0, 9.0, 11.0, 14.0, 6.0, 4.0, 12.0, 7.0, 5.0],\n",
    "    \n",
    "    \"y3\": [7.46, 6.77, 12.74, 7.11, 7.81, 8.84, 6.08, 5.39, 8.15, 6.42, 5.73],\n",
    "    \n",
    "    \"x4\": [8.0, 8.0, 8.0, 8.0, 8.0, 8.0, 8.0, 19.0, 8.0, 8.0, 8.0],\n",
    "    \n",
    "    \"y4\": [6.58, 5.76, 7.71, 8.84, 8.47, 7.04, 5.25, 12.5, 5.56, 7.91, 6.89]\n",
    "}\n",
    "По каждой паре выборок посчитайте:\n",
    "\n",
    "выборочное среднее и дисперсию каждой выборки,\n",
    "коэффициент корреляции Пирсона и прямую линейной регрессии.\n",
    "Убедившись в том, что они не практически не отличаются, постройте scatter plot по каждой паре выборок."
   ]
  },
  {
   "cell_type": "code",
   "execution_count": 38,
   "metadata": {},
   "outputs": [],
   "source": [
    "%matplotlib inline\n",
    "import matplotlib.pyplot as plt"
   ]
  },
  {
   "cell_type": "code",
   "execution_count": 131,
   "metadata": {},
   "outputs": [],
   "source": [
    "x1 = np.array([10.0, 8.0, 13.0, 9.0, 11.0, 14.0, 6.0, 4.0, 12.0, 7.0, 5.0])    \n",
    "y1 = np.array([8.04, 6.95, 7.58, 8.81, 8.33, 9.96, 7.24, 4.26, 10.84, 4.82, 5.68])   \n",
    "\n",
    "x2 = np.array([10.0, 8.0, 13.0, 9.0, 11.0, 14.0, 6.0, 4.0, 12.0, 7.0, 5.0])\n",
    "y2 = np.array([9.14, 8.14, 8.74, 8.77, 9.26, 8.1, 6.13, 3.1, 9.13, 7.26, 4.74])\n",
    "\n",
    "x3 = np.array([10.0, 8.0, 13.0, 9.0, 11.0, 14.0, 6.0, 4.0, 12.0, 7.0, 5.0])\n",
    "y3 = np.array([7.46, 6.77, 12.74, 7.11, 7.81, 8.84, 6.08, 5.39, 8.15, 6.42, 5.73])\n",
    "\n",
    "x4 = np.array([8.0, 8.0, 8.0, 8.0, 8.0, 8.0, 8.0, 19.0, 8.0, 8.0, 8.0])\n",
    "y4 = np.array([6.58, 5.76, 7.71, 8.84, 8.47, 7.04, 5.25, 12.5, 5.56, 7.91, 6.89])"
   ]
  },
  {
   "cell_type": "code",
   "execution_count": 132,
   "metadata": {},
   "outputs": [],
   "source": [
    "def parametrs_func (x, y) -> float:\n",
    "    print (f'Выборочное среднее: {np.mean(x)}, {np.mean(y)}')\n",
    "    print (f'Дисперсия: {np.var(x)}, {np.var(y)}')\n",
    "    print (f'Коэфициент корреляции Пирсона: {np.corrcoef(x,y)[0,1]}')\n",
    "    b1 = np.cov(x, y, ddof=1)[0, 1] / np.var(x, ddof=1)\n",
    "    b0 = y.mean() - b1 * x.mean()\n",
    "    print (f'Уравнение линейной регрессии: y = {round(b0, 3)} + {round(b1, 3)}*x')\n",
    "    print ('-'*50)"
   ]
  },
  {
   "cell_type": "code",
   "execution_count": 133,
   "metadata": {},
   "outputs": [
    {
     "name": "stdout",
     "output_type": "stream",
     "text": [
      "Выборочное среднее: 9.0, 7.500909090909093\n",
      "Дисперсия: 10.0, 3.7520628099173554\n",
      "Коэфициент корреляции Пирсона: 0.81642051634484\n",
      "Уравнение линейной регрессии: y = 3.0 + 0.5*x\n",
      "--------------------------------------------------\n",
      "Выборочное среднее: 9.0, 7.50090909090909\n",
      "Дисперсия: 10.0, 3.752390082644628\n",
      "Коэфициент корреляции Пирсона: 0.8162365060002427\n",
      "Уравнение линейной регрессии: y = 3.001 + 0.5*x\n",
      "--------------------------------------------------\n",
      "Выборочное среднее: 9.0, 7.5\n",
      "Дисперсия: 10.0, 3.747836363636364\n",
      "Коэфициент корреляции Пирсона: 0.8162867394895982\n",
      "Уравнение линейной регрессии: y = 3.002 + 0.5*x\n",
      "--------------------------------------------------\n",
      "Выборочное среднее: 9.0, 7.500909090909091\n",
      "Дисперсия: 10.0, 3.7484082644628103\n",
      "Коэфициент корреляции Пирсона: 0.8165214368885031\n",
      "Уравнение линейной регрессии: y = 3.002 + 0.5*x\n",
      "--------------------------------------------------\n"
     ]
    }
   ],
   "source": [
    "parametrs_func(x1,y1)\n",
    "parametrs_func(x2,y2)\n",
    "parametrs_func(x3,y3)\n",
    "parametrs_func(x4,y4)"
   ]
  },
  {
   "cell_type": "code",
   "execution_count": 134,
   "metadata": {},
   "outputs": [],
   "source": [
    "def lreg (x,y):\n",
    "    b1 = np.cov(x, y, ddof=1)[0, 1] / np.var(x, ddof=1)\n",
    "    b0 = y.mean() - b1 * x.mean()\n",
    "    #ox = x\n",
    "    oy = b0 + b1*x\n",
    "    return oy"
   ]
  },
  {
   "cell_type": "code",
   "execution_count": 135,
   "metadata": {},
   "outputs": [
    {
     "data": {
      "image/png": "[encoded data removed]",
      "text/plain": [
       "<Figure size 720x720 with 1 Axes>"
      ]
     },
     "metadata": {},
     "output_type": "display_data"
    }
   ],
   "source": [
    "fig, ax = plt.subplots()\n",
    "\n",
    "ax.scatter(x1, y1, c = 'deeppink')  \n",
    "plt.plot(x1, lreg(x1, y1), color='red', alpha=0.5)\n",
    "\n",
    "ax.scatter(x2, y2, c = 'blue')\n",
    "plt.plot(x2, lreg(x2,y2), color='red', alpha=0.5)\n",
    "\n",
    "ax.scatter(x3, y3, c = 'yellow')\n",
    "plt.plot(x3, lreg(x3, y3), color='red', alpha=0.5)\n",
    "\n",
    "ax.scatter(x4, y4, c = 'green')\n",
    "plt.plot(x4, lreg(x4, y4), color='red', alpha=0.5)\n",
    "\n",
    "fig.set_figwidth(10)     \n",
    "fig.set_figheight(10)    \n",
    "plt.show()"
   ]
  },
  {
   "cell_type": "code",
   "execution_count": 136,
   "metadata": {},
   "outputs": [],
   "source": [
    "data = { \"x1\": [10.0, 8.0, 13.0, 9.0, 11.0, 14.0, 6.0, 4.0, 12.0, 7.0, 5.0],\n",
    "        \"y1\": [8.04, 6.95, 7.58, 8.81, 8.33, 9.96, 7.24, 4.26, 10.84, 4.82, 5.68],\n",
    "        \"x2\": [10.0, 8.0, 13.0, 9.0, 11.0, 14.0, 6.0, 4.0, 12.0, 7.0, 5.0],\n",
    "        \"y2\": [9.14, 8.14, 8.74, 8.77, 9.26, 8.1, 6.13, 3.1, 9.13, 7.26, 4.74],\n",
    "        \"x3\": [10.0, 8.0, 13.0, 9.0, 11.0, 14.0, 6.0, 4.0, 12.0, 7.0, 5.0],\n",
    "        \"y3\": [7.46, 6.77, 12.74, 7.11, 7.81, 8.84, 6.08, 5.39, 8.15, 6.42, 5.73],\n",
    "        \"x4\": [8.0, 8.0, 8.0, 8.0, 8.0, 8.0, 8.0, 19.0, 8.0, 8.0, 8.0],\n",
    "        \"y4\": [6.58, 5.76, 7.71, 8.84, 8.47, 7.04, 5.25, 12.5, 5.56, 7.91, 6.89]\n",
    "        }"
   ]
  },
  {
   "cell_type": "code",
   "execution_count": 137,
   "metadata": {},
   "outputs": [],
   "source": [
    "plt.style.use('seaborn-whitegrid')"
   ]
  },
  {
   "cell_type": "code",
   "execution_count": 138,
   "metadata": {},
   "outputs": [
    {
     "name": "stdout",
     "output_type": "stream",
     "text": [
      "Выборки 1: b0 = 3.0, \t b1 = 0.5\n",
      "Выборки 2: b0 = 3.001, \t b1 = 0.5\n",
      "Выборки 3: b0 = 3.002, \t b1 = 0.5\n",
      "Выборки 4: b0 = 3.002, \t b1 = 0.5\n"
     ]
    },
    {
     "data": {
      "image/png": "[encoded data removed]",
      "text/plain": [
       "<Figure size 720x432 with 4 Axes>"
      ]
     },
     "metadata": {},
     "output_type": "display_data"
    }
   ],
   "source": [
    "fig, axes = plt.subplots(nrows=2, ncols=2)\n",
    "fig.set_size_inches(10,6)\n",
    "ox = np.linspace(3, 20, 10**4)\n",
    "for i, ax in enumerate(axes.flatten()):\n",
    "    i += 1\n",
    "    \n",
    "    x = data[f'x{i}']\n",
    "    y = data[f'y{i}']\n",
    "    \n",
    "    b1 = np.cov(x, y, ddof=1)[0, 1] / np.var(x, ddof=1)\n",
    "    b0 = np.mean(y) - b1 * np.mean(x)\n",
    "    \n",
    "    print (f'Выборки {i}: b0 = {round(b0, 3)}, \\t b1 = {round(b1, 3)}')\n",
    "    \n",
    "    oy = b0 + b1*ox\n",
    "    \n",
    "    ax.scatter(x,y)\n",
    "    ax.plot(ox, oy, c = 'red', alpha = 0.5)\n",
    "    \n",
    "    ax.set_xlim(3, 20)\n",
    "    ax.set_ylim(2, 14)   \n",
    "    "
   ]
  },
  {
   "cell_type": "code",
   "execution_count": null,
   "metadata": {},
   "outputs": [],
   "source": []
  }
 ],
 "metadata": {
  "kernelspec": {
   "display_name": "Python 3",
   "language": "python",
   "name": "python3"
  },
  "language_info": {
   "codemirror_mode": {
    "name": "ipython",
    "version": 3
   },
   "file_extension": ".py",
   "mimetype": "text/x-python",
   "name": "python",
   "nbconvert_exporter": "python",
   "pygments_lexer": "ipython3",
   "version": "3.8.1"
  }
 },
 "nbformat": 4,
 "nbformat_minor": 4
}
