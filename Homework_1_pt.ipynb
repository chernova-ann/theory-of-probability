{
 "cells": [
  {
   "cell_type": "code",
   "execution_count": 1,
   "metadata": {},
   "outputs": [],
   "source": [
    "import numpy as np"
   ]
  },
  {
   "cell_type": "markdown",
   "metadata": {},
   "source": [
    "#### Задача 1\n",
    "\n",
    "Подбрасываются три игральных кубика. Оцените вероятность того, что сумма значений этих кубиков не будет превышать 6.\n",
    "\n",
    "Подсказка: оценкой вероятности может служить, например, относительная частота при большом числе опытов. Попробуйте реализовать наибольшее число опытов, которое позволяют ваш компьютер и/или ваше терпение."
   ]
  },
  {
   "cell_type": "code",
   "execution_count": 104,
   "metadata": {},
   "outputs": [],
   "source": [
    "n = 10**7 # Общее число испытаний. При 10**8 выдает ошибку Unable to allocate 381. MiB for an array with shape (100000000,) and data type int32\n"
   ]
  },
  {
   "cell_type": "code",
   "execution_count": 105,
   "metadata": {},
   "outputs": [],
   "source": [
    "# Игральные кубики c, d, e. Подбрасываем n раз.\n",
    "c = np.random.randint(1, 7, size = n) \n",
    "d = np.random.randint(1, 7, size = n)\n",
    "e = np.random.randint(1, 7, size = n)\n",
    "#print(c)\n",
    "#print(d)\n",
    "#print(e)"
   ]
  },
  {
   "cell_type": "code",
   "execution_count": 86,
   "metadata": {},
   "outputs": [
    {
     "data": {
      "text/plain": [
       "array([15, 14, 13, ...,  7,  8, 17])"
      ]
     },
     "execution_count": 86,
     "metadata": {},
     "output_type": "execute_result"
    }
   ],
   "source": [
    "k = c + d + e # Сумма трех массивов. Каждого элемента с каждым. с[i]+d[i]+e[i]\n",
    "k"
   ]
  },
  {
   "cell_type": "code",
   "execution_count": 87,
   "metadata": {},
   "outputs": [
    {
     "data": {
      "text/plain": [
       "926330"
      ]
     },
     "execution_count": 87,
     "metadata": {},
     "output_type": "execute_result"
    }
   ],
   "source": [
    "m = (k <= 6).sum() # В полученном массиве (сложение трех заданных) находим результаты сответствующие\n",
    "                   # условию (сумма не превышает 6). Суммируем.\n",
    "m"
   ]
  },
  {
   "cell_type": "code",
   "execution_count": 88,
   "metadata": {},
   "outputs": [
    {
     "data": {
      "text/plain": [
       "0.092633"
      ]
     },
     "execution_count": 88,
     "metadata": {},
     "output_type": "execute_result"
    }
   ],
   "source": [
    "W = m/n # Относительная частота. Количество исходов, где  сумма значений трех кубиков не превышает 6./ Общее колиество исходов.\n",
    "W"
   ]
  },
  {
   "cell_type": "markdown",
   "metadata": {},
   "source": [
    "#### Задача 2\n",
    "\n",
    "Имеется колода в 52 карты. Найти число возможностей вытянуть из неё 4 карты так, чтобы среди них был хотя бы один туз."
   ]
  },
  {
   "cell_type": "code",
   "execution_count": 90,
   "metadata": {},
   "outputs": [],
   "source": [
    "def combinations(n: int, k: int) -> int:\n",
    "    \"\"\"Число сочетаний.\n",
    "    \"\"\"\n",
    "    \n",
    "    return np.math.factorial(n) // (np.math.factorial(k) * np.math.factorial(n - k))"
   ]
  },
  {
   "cell_type": "code",
   "execution_count": 91,
   "metadata": {},
   "outputs": [
    {
     "data": {
      "text/plain": [
       "4"
      ]
     },
     "execution_count": 91,
     "metadata": {},
     "output_type": "execute_result"
    }
   ],
   "source": [
    "#Число способов достать  1  туз из четырёх:\n",
    "combinations(4, 1)    "
   ]
  },
  {
   "cell_type": "code",
   "execution_count": 94,
   "metadata": {},
   "outputs": [
    {
     "data": {
      "text/plain": [
       "17296"
      ]
     },
     "execution_count": 94,
     "metadata": {},
     "output_type": "execute_result"
    }
   ],
   "source": [
    "#Число способов достать 3 карты из  48:\n",
    "combinations(48, 3)"
   ]
  },
  {
   "cell_type": "code",
   "execution_count": 100,
   "metadata": {},
   "outputs": [
    {
     "data": {
      "text/plain": [
       "69184"
      ]
     },
     "execution_count": 100,
     "metadata": {},
     "output_type": "execute_result"
    }
   ],
   "source": [
    "# Искомое число способов для 1 туза и 3 ругих карт. \n",
    "a = combinations(4, 1) * combinations(48, 3)\n",
    "a"
   ]
  },
  {
   "cell_type": "code",
   "execution_count": 99,
   "metadata": {},
   "outputs": [
    {
     "data": {
      "text/plain": [
       "76145"
      ]
     },
     "execution_count": 99,
     "metadata": {},
     "output_type": "execute_result"
    }
   ],
   "source": [
    "# Выражение \"хотя бы один туз\" предполагает, что мы можем вытащить 1,2, 3, 4 туза. \n",
    "# Значит, нужно посчитать исходы с 1,2,3,4 тузами и сложить их.\n",
    "# Если мы вытащили i тузов из 4 тузов, то осталось вытащить 4 - i карт из оставшихся 48 карт.\n",
    "sum(combinations(4, i)*combinations(48, 4 - i) for i in range(1, 5))"
   ]
  },
  {
   "cell_type": "markdown",
   "metadata": {},
   "source": [
    "#### Задача 3\n",
    "\n",
    "Из 60 вопросов, входящих в экзаменационные билеты, студент знает 50. Какова вероятность того, что среди трёх наугад выбранных вопросов студент знает: а) все? б) два?"
   ]
  },
  {
   "cell_type": "code",
   "execution_count": 116,
   "metadata": {},
   "outputs": [
    {
     "data": {
      "text/plain": [
       "0.5727644652250146"
      ]
     },
     "execution_count": 116,
     "metadata": {},
     "output_type": "execute_result"
    }
   ],
   "source": [
    "#50/60 - знает - вероятность вытащить известный вопрос\n",
    "#10/60 - не знает - вероятность вытащить неизвестный вопрос\n",
    "#Вероятность вытащить второй впрос зависит от того, какой вопрос студент вытащил первым. \n",
    "#Вероятность вытащить третий вопрос зависит от того, какой вопрос был вытащен вторым и третьим.\n",
    "(50/60)*(49/59)*(48/58) # вытащит все три вопроса, которые знает"
   ]
  },
  {
   "cell_type": "code",
   "execution_count": 125,
   "metadata": {},
   "outputs": [],
   "source": [
    "P1=50/60*49/59*10/58 #Вероятность вытащить два известных вопроса и третий неизвестный."
   ]
  },
  {
   "cell_type": "code",
   "execution_count": 126,
   "metadata": {},
   "outputs": [],
   "source": [
    "P2=10/60*50/59*49/58 #Вероятность вытащить два известных вопроса и первый неизвестный."
   ]
  },
  {
   "cell_type": "code",
   "execution_count": 130,
   "metadata": {},
   "outputs": [],
   "source": [
    "P3=50/60*10/59*49/58 #Вероятность вытащить два известных вопроса и второй неизвестный."
   ]
  },
  {
   "cell_type": "code",
   "execution_count": 131,
   "metadata": {},
   "outputs": [
    {
     "data": {
      "text/plain": [
       "0.35797779076563413"
      ]
     },
     "execution_count": 131,
     "metadata": {},
     "output_type": "execute_result"
    }
   ],
   "source": [
    "P = P1+P2+P3\n",
    "P"
   ]
  },
  {
   "cell_type": "markdown",
   "metadata": {},
   "source": [
    "#### Задача 4\n",
    "\n",
    "Бросается игральная кость. Пусть событие A - появление чётного числа, событие B - появление числа больше трёх. Являются ли эти события независимыми?"
   ]
  },
  {
   "cell_type": "markdown",
   "metadata": {},
   "source": [
    "События А и В являются независимыми, если P(A|B)=P(A).\n",
    "\n",
    "P(A|B) = 2/3 На кубике числа больше 3 (4,5,6), из них 2 числа четные. Если выпадает событие B,то вероятность что из трех чисел выпадет четное 2/3.\n",
    "\n",
    "P(A) = 3/6 = 1/2 На кубике 6 чичсел, из них четное каждое второе. (2,4,6), то есть 3 числа из 6.\n",
    "\n",
    "P(A|B) != P(A), значит события зависимы."
   ]
  },
  {
   "cell_type": "markdown",
   "metadata": {},
   "source": [
    "#### Задача 5.\n",
    "Допустим, имеется некоторая очень редкая болезнь (поражает 0.1% населения). Вы приходите к врачу, вам делают тест на эту болезнь, и тест оказывается положительным. Врач говорит вам, что этот тест верно выявляет 99% больных этой болезнью и всего лишь в 1% случаев даёт ложный положительный ответ.\n",
    "\n",
    "Вопрос: какова вероятность, что вы действительно больны ей?\n",
    "\n",
    "Подсказка: используйте формулу Байеса с раскрытием знаменателя с помощью формулы полной вероятности."
   ]
  },
  {
   "cell_type": "markdown",
   "metadata": {},
   "source": [
    "##### Cобытие A - болен. Cобытие B - положительная реакция на тест (+)\n",
    "\n",
    "По формуле Байеса:\n",
    "P(болен|+)=P(+|болен)*P(болен)|P(+)\n",
    "P(+) = P(+|болен)*P(болен) +P(+|здоров)*P(здоров)\n",
    "\n",
    "P(A) = 0.001\n",
    "P(B) = 0.99*0.001 + 0.01*0.999 (Вероятность положительной реакции на тест складывается из двух случаев: \n",
    "1) в случае, если человек из  выборки заболевших (0.001 процент населения * точность теста 0.99)\n",
    "2) в случае, если человек из выборки здоровых (0.999 процентов населения * неточность теста 0.01 (по ошибки показывает положительную реакцию среди здоровых)))\n",
    "\n",
    "P(B|A) - случай, когда человек болен и тест показал положительный результат\n",
    "\n",
    "P(A|B) = 0.99*0.001/ (0.99*0.001 + 0.01*0.999)"
   ]
  },
  {
   "cell_type": "code",
   "execution_count": 134,
   "metadata": {},
   "outputs": [
    {
     "data": {
      "text/plain": [
       "0.09016393442622951"
      ]
     },
     "execution_count": 134,
     "metadata": {},
     "output_type": "execute_result"
    }
   ],
   "source": [
    "0.99*0.001/ (0.99*0.001 + 0.01*0.999)"
   ]
  },
  {
   "cell_type": "code",
   "execution_count": null,
   "metadata": {},
   "outputs": [],
   "source": []
  }
 ],
 "metadata": {
  "kernelspec": {
   "display_name": "Python 3",
   "language": "python",
   "name": "python3"
  },
  "language_info": {
   "codemirror_mode": {
    "name": "ipython",
    "version": 3
   },
   "file_extension": ".py",
   "mimetype": "text/x-python",
   "name": "python",
   "nbconvert_exporter": "python",
   "pygments_lexer": "ipython3",
   "version": "3.8.1"
  }
 },
 "nbformat": 4,
 "nbformat_minor": 4
}
