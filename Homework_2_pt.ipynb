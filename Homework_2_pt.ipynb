{
 "cells": [
  {
   "cell_type": "code",
   "execution_count": 10,
   "metadata": {},
   "outputs": [],
   "source": [
    "import numpy as np"
   ]
  },
  {
   "cell_type": "markdown",
   "metadata": {},
   "source": [
    "#### Задача 1\n",
    "\n",
    "Контрольная работа состоит из пяти вопросов. На каждый вопрос приведено четыре варианта ответа, один из которых правильный. Составьте закон распределения числа правильных ответов при простом угадывании. Найдите M(X), D(X)."
   ]
  },
  {
   "cell_type": "markdown",
   "metadata": {},
   "source": [
    "5 вопросов\n",
    "4 варианта ответа, один из 4 правильный\n",
    "1/4**5\n",
    "p = 1/4\n",
    "1-p = 3/4\n"
   ]
  },
  {
   "cell_type": "code",
   "execution_count": 30,
   "metadata": {},
   "outputs": [
    {
     "data": {
      "text/plain": [
       "0.0009765625"
      ]
     },
     "execution_count": 30,
     "metadata": {},
     "output_type": "execute_result"
    }
   ],
   "source": [
    "# 1) Вероятность угадать все вопросы. \n",
    "# k = 5 p = 1/4 (вероятность случайно выбрать првильный ответ) 1-p = 3/4 (вероятность выбрать неправильный ответ)\n",
    "P_5 = (1/4)**5\n",
    "P_5"
   ]
  },
  {
   "cell_type": "code",
   "execution_count": 31,
   "metadata": {},
   "outputs": [
    {
     "data": {
      "text/plain": [
       "0.0146484375"
      ]
     },
     "execution_count": 31,
     "metadata": {},
     "output_type": "execute_result"
    }
   ],
   "source": [
    "# 2) Вероятность угадать 4 вопроса из пяти. k = 4, n = 5\n",
    "# P_4 = C4/5*p**4*(1-p)**(5-4)\n",
    "# C4/5 = 𝑛!/𝑘!(𝑛−𝑘)!= 5!/4!(5-4)!= 5\n",
    "P_4 = 5*((1/4)**4)*(3/4)\n",
    "P_4"
   ]
  },
  {
   "cell_type": "code",
   "execution_count": 32,
   "metadata": {},
   "outputs": [
    {
     "data": {
      "text/plain": [
       "0.087890625"
      ]
     },
     "execution_count": 32,
     "metadata": {},
     "output_type": "execute_result"
    }
   ],
   "source": [
    "# 3) Вероятность угадать 3 вопроса из пяти. k = 3, n = 5\n",
    "# P_3 = C3/5*p**3*(1-p)**(5-3)\n",
    "# C3/5 = 𝑛!/𝑘!(𝑛−𝑘)!= 5!/3!(5-3)!= 10\n",
    "P_3 = 10*((1/4)**3)*((3/4)**2)\n",
    "P_3"
   ]
  },
  {
   "cell_type": "code",
   "execution_count": 33,
   "metadata": {},
   "outputs": [
    {
     "data": {
      "text/plain": [
       "0.263671875"
      ]
     },
     "execution_count": 33,
     "metadata": {},
     "output_type": "execute_result"
    }
   ],
   "source": [
    "# 4) Вероятность угадать 2 вопроса из пяти. k = 2, n = 5\n",
    "# P_2 = C2/5*p**2*(1-p)**(5-2)\n",
    "# C2/5 = 𝑛!/𝑘!(𝑛−𝑘)!= 5!/2!(5-2)!= 10\n",
    "P_2 = 10*((1/4)**2)*((3/4)**3)\n",
    "P_2"
   ]
  },
  {
   "cell_type": "code",
   "execution_count": 34,
   "metadata": {},
   "outputs": [
    {
     "data": {
      "text/plain": [
       "0.3955078125"
      ]
     },
     "execution_count": 34,
     "metadata": {},
     "output_type": "execute_result"
    }
   ],
   "source": [
    "# 5) Вероятность угадать 1 вопрос из пяти. k = 1, n = 5\n",
    "# P_1 = C1/5*p*(1-p)**(5-1)\n",
    "# C1/5 = 𝑛!/𝑘!(𝑛−𝑘)!= 5!/1!(5-1)!= 5\n",
    "P_1 = 5*(1/4)*((3/4)**4)\n",
    "P_1"
   ]
  },
  {
   "cell_type": "code",
   "execution_count": 35,
   "metadata": {},
   "outputs": [
    {
     "data": {
      "text/plain": [
       "0.2373046875"
      ]
     },
     "execution_count": 35,
     "metadata": {},
     "output_type": "execute_result"
    }
   ],
   "source": [
    "# 6) Вероятность не угадать ни одного вопроса из пяти. k = 0, n = 5\n",
    "# P_0 = p**0*(1-p)**(5-0)\n",
    "P_0 = ((1/4)**0)*((3/4)**5)\n",
    "P_0"
   ]
  },
  {
   "cell_type": "code",
   "execution_count": 42,
   "metadata": {},
   "outputs": [
    {
     "name": "stdout",
     "output_type": "stream",
     "text": [
      "[0 1 2 3 4 5]\n"
     ]
    }
   ],
   "source": [
    "#Математическое ожидание\n",
    "x_values = np.arange(0, 6)\n",
    "\n",
    "print(x_values)"
   ]
  },
  {
   "cell_type": "code",
   "execution_count": 43,
   "metadata": {},
   "outputs": [
    {
     "name": "stdout",
     "output_type": "stream",
     "text": [
      "1.0\n",
      "[0.23730469 0.39550781 0.26367188 0.08789062 0.01464844 0.00097656]\n"
     ]
    }
   ],
   "source": [
    "x_probabilities = np.array([P_0, P_1, P_2, P_3, P_4, P_5])\n",
    "print(sum(x_probabilities))\n",
    "print(x_probabilities)"
   ]
  },
  {
   "cell_type": "code",
   "execution_count": 44,
   "metadata": {},
   "outputs": [
    {
     "name": "stdout",
     "output_type": "stream",
     "text": [
      "1.25\n"
     ]
    }
   ],
   "source": [
    "m = (x_values * x_probabilities).sum()\n",
    "\n",
    "print(m)"
   ]
  },
  {
   "cell_type": "markdown",
   "metadata": {},
   "source": [
    "Дисперсия\n",
    "$$D(X) = M \\left( (X - M(X))^2 \\right).$$"
   ]
  },
  {
   "cell_type": "code",
   "execution_count": 45,
   "metadata": {},
   "outputs": [
    {
     "name": "stdout",
     "output_type": "stream",
     "text": [
      "[-1.25 -0.25  0.75  1.75  2.75  3.75]\n"
     ]
    }
   ],
   "source": [
    "y_values = x_values - m\n",
    "\n",
    "print(y_values)"
   ]
  },
  {
   "cell_type": "code",
   "execution_count": 46,
   "metadata": {},
   "outputs": [
    {
     "name": "stdout",
     "output_type": "stream",
     "text": [
      "[ 1.5625  0.0625  0.5625  3.0625  7.5625 14.0625]\n"
     ]
    }
   ],
   "source": [
    "z_values = y_values ** 2\n",
    "\n",
    "print(z_values)"
   ]
  },
  {
   "cell_type": "code",
   "execution_count": 47,
   "metadata": {},
   "outputs": [
    {
     "name": "stdout",
     "output_type": "stream",
     "text": [
      "0.9375\n"
     ]
    }
   ],
   "source": [
    "d = (z_values * x_probabilities).sum()\n",
    "\n",
    "print(d)"
   ]
  },
  {
   "cell_type": "markdown",
   "metadata": {},
   "source": [
    "#### Задача 2\n",
    "\n",
    "Пользователь получает в среднем 10 писем со спамом на свой почтовый ящик за сутки. Найти число N, такое, что с вероятностью 0.95 пользователь получит не более N писем со спамом за текущий день."
   ]
  },
  {
   "cell_type": "markdown",
   "metadata": {},
   "source": [
    "$\\lambda$ = 10 (10 писем в сутки)\n",
    "\n",
    "$P(X <= N)= 0.95$ (вероятность)\n",
    "\n",
    "$P(X <=N) = \\dfrac{10^{k} e^{-10}}{k!}$"
   ]
  },
  {
   "cell_type": "code",
   "execution_count": 91,
   "metadata": {},
   "outputs": [],
   "source": [
    "def poisson_proba(k: int, lambda_: float) -> float:\n",
    "    \"\"\"Формула Пуассона. \"\"\"\n",
    "    \n",
    "    return (lambda_ ** k) * (np.exp(-lambda_)) / np.math.factorial(k)"
   ]
  },
  {
   "cell_type": "markdown",
   "metadata": {},
   "source": [
    "Вероятность получить не более N писем предполагает получение от 0 до N писем:\n",
    "$P(X \\leq N) = \\displaystyle\\sum_{i = 0}^{N} \\dfrac{10^{i} e^{-10}}{i!}$"
   ]
  },
  {
   "cell_type": "code",
   "execution_count": 92,
   "metadata": {},
   "outputs": [
    {
     "data": {
      "text/plain": [
       "0.9512595966960214"
      ]
     },
     "execution_count": 92,
     "metadata": {},
     "output_type": "execute_result"
    }
   ],
   "source": [
    "sum(poisson_proba(k=i, lambda_= 10) for i in range(16)) #До просмотра вебинара, методом подбора"
   ]
  },
  {
   "cell_type": "code",
   "execution_count": 93,
   "metadata": {},
   "outputs": [
    {
     "data": {
      "text/plain": [
       "(15, 0.9512595966960214)"
      ]
     },
     "execution_count": 93,
     "metadata": {},
     "output_type": "execute_result"
    }
   ],
   "source": [
    "i = -1 \n",
    "p = 0\n",
    "lambda_= 10\n",
    "while p < 0.95:\n",
    "    i += 1\n",
    "    p += poisson_proba(i, lambda_)\n",
    "    \n",
    "i, p   "
   ]
  },
  {
   "cell_type": "markdown",
   "metadata": {},
   "source": [
    "C вероятностью 0.95 пользователь получит не более 15 писем со спамом за текущий день. N =15\n",
    "\n",
    "$$(X \\leq 15)$$"
   ]
  },
  {
   "cell_type": "markdown",
   "metadata": {},
   "source": [
    "#### Задача 3\n",
    "\n",
    "Производятся выстрелы по мишени. Вероятность попадания в мишень при одном выстреле равна 0.01. Сколько выстрелов нужно сделать чтобы быть уверенным с вероятностью 0.9, что хотя бы 6 раз будет совершено попадание?\n",
    "\n",
    "Подсказка: 1) \"Вероятность попасть k раз при n выстрелах\" - на какое распределение это похоже? 2) А если нам нужна вероятность P(X >= k), а не P(X = k)? 3) Здесь предстоит немножко покодить."
   ]
  },
  {
   "cell_type": "markdown",
   "metadata": {},
   "source": [
    "P(x = 1) = 0.01  (1 выстрел)\n",
    "\n",
    "P(x>=k) = 0.9\n",
    "\n",
    "P(x<=k)= 1 - 0.9 = 0.1\n",
    "\n",
    "k = 6 - попадание 6 раз"
   ]
  },
  {
   "cell_type": "markdown",
   "metadata": {},
   "source": [
    "$$P(X = k) = C_n^k p^k (1 - p)^{n - k}$$"
   ]
  },
  {
   "cell_type": "markdown",
   "metadata": {},
   "source": [
    "$$P(X \\geq k) = 1 - P(X \\leq k) = 1 - \\displaystyle\\sum_{i = 0}^{k-1}C_n^i p^i (1 - p)^{n - i}$$"
   ]
  },
  {
   "cell_type": "code",
   "execution_count": 67,
   "metadata": {},
   "outputs": [],
   "source": [
    "def combinations(n: int, k: int) -> int:\n",
    "    \"\"\"Число сочетаний. \"\"\"\n",
    "    \n",
    "    return np.math.factorial(n) // (np.math.factorial(k) * np.math.factorial(n - k))"
   ]
  },
  {
   "cell_type": "code",
   "execution_count": 79,
   "metadata": {},
   "outputs": [],
   "source": [
    "def binom_proba(n: int, k: int, p: float) -> float:\n",
    "    \"\"\"Формула Бернулли. \"\"\"\n",
    "    \n",
    "    return combinations(n, k)*(p**k)*((1-p)**(n-k))"
   ]
  },
  {
   "cell_type": "code",
   "execution_count": 82,
   "metadata": {},
   "outputs": [],
   "source": [
    "def binom_proba_geq(n: int, k: int, p: float) -> float:\n",
    "    \"\"\" \"\"\"\n",
    "    return (1 - sum(binom_proba(n, i, p) for i in range(k)))"
   ]
  },
  {
   "cell_type": "code",
   "execution_count": 90,
   "metadata": {},
   "outputs": [
    {
     "data": {
      "text/plain": [
       "(926, 0.9003627121531355)"
      ]
     },
     "execution_count": 90,
     "metadata": {},
     "output_type": "execute_result"
    }
   ],
   "source": [
    "p = 0.01 \n",
    "P = 0\n",
    "k = 6\n",
    "n = 5\n",
    "while P < 0.9:\n",
    "    n += 1\n",
    "    P = binom_proba_geq(n,k,p)\n",
    "    \n",
    "n,P "
   ]
  }
 ],
 "metadata": {
  "kernelspec": {
   "display_name": "Python 3",
   "language": "python",
   "name": "python3"
  },
  "language_info": {
   "codemirror_mode": {
    "name": "ipython",
    "version": 3
   },
   "file_extension": ".py",
   "mimetype": "text/x-python",
   "name": "python",
   "nbconvert_exporter": "python",
   "pygments_lexer": "ipython3",
   "version": "3.8.1"
  }
 },
 "nbformat": 4,
 "nbformat_minor": 4
}
