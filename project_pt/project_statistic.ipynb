{
 "cells": [
  {
   "cell_type": "code",
   "execution_count": 1,
   "metadata": {},
   "outputs": [],
   "source": [
    "import pandas as pd\n",
    "import numpy as np\n",
    "from itertools import combinations\n",
    "from scipy import stats\n",
    "from matplotlib import pyplot as plt\n",
    "plt.style.use('seaborn-whitegrid')"
   ]
  },
  {
   "cell_type": "markdown",
   "metadata": {},
   "source": [
    "##### Датасет с исследовнием языковых способностей у условно норматипичных детей (typical development - TD) и детей со \"специфическим языковым нарушением\"(specific language impairment - SLI) у детей от 4 до 15.9 лет.\n",
    "\n",
    "Специфические языковые нарушения - это состояние, которым страдают примерно 7% 5-летних детей. Нарушение характеризуется отсутствием языковых навыков по сравнению с норматипичными сверстниками, но без явных психических или физических недостатков. Автоматизация процесса диагностики с использованием методов НЛП и машинного обучения может быть интересна педиатрам и логопедам.\n",
    "\n",
    "В этом исследовании оценивались три набора данных, полученных в рамках проекта CHILDES. \n",
    "Все наборы данных состоят из составления рассказов по серии сюжетных картин.\n",
    "В данном исследвании выбран метод повествовательных корпусов (набор заданий по составлению рассказов с опорой на наглядный материал (картинки)), так как предыдущие исследования показали его эффективность для выявления языковых нарушений у детей. \n",
    "\n",
    "Первый набор данных состоит из выборок британских подростков, \n",
    "второй - канадских детей в возрасте от 4 до 9 лет, \n",
    "а третий - американских детей в возрасте от 4 до 12 лет.\n",
    "\n",
    "###### Conti-Ramsden 4 - корпус (набор данных):\n",
    "\n",
    "Собран для исследования оценки эффективности тестов на составления рассказов на подростках. Включает 99 выборок норматипичных детей (TD) и 19 выборк детеей с языковым нарушением (SLI) в возрасте от 13.1 до 15.9 лет. \n",
    "\n",
    "Корпус содержит стенограммы рассказа истории, с опорой на книжку с картинками (без текста) Майера «Лягушка, где ты». Дети сначала просматривали книжку с картинками некоторе время, затем им было предложено пересказать историю в прошедшем времени. и.\n",
    "\n",
    "###### ENNI\n",
    "\n",
    "Набор данных состоит из 300 выборок TD и 77 выборок SLI детей в возрасте от 4 до 9 лет. Каждому ребенку были представлены две серии сюжетных картин, одна - простая, вторая - повышенного уровня сложности. В отличие от Conti4 экзаменатор держал книгу и переворачивал страницу после того, как ребенок заканчивал  описывать определенную картинку. \n",
    "\n",
    "###### Gillam\n",
    "\n",
    "Набор данных Gillam основан на «The Test of Narrative Language\"(TNL). Он состоит из 250 выборок детей с языковыми нарушениями и 520 выборок детей из контрольной группы в возрасте от 5 до 12 лет. TNL состоит из четырех заданий по составлению рассказа, первое - перессказ прослушанного текста с опорными вопросами, а остальные - рассказ по серии сюжетных кратинок. "
   ]
  },
  {
   "cell_type": "markdown",
   "metadata": {},
   "source": [
    "#### Характеристики\n",
    "Все характеристики датасета можно найти в файле https://github.com/chernova-ann/theory-of-probability/blob/main/project_pt/specifications.txt\n",
    "\n",
    "Здесь перечисленны те, которые использованны в исследовании.\n",
    "\n",
    "1.filename - имя файла, с записанным ответом ребенка\n",
    "\n",
    "2. sex - пол\n",
    "\n",
    "3. age - возраст\n",
    "\n",
    "4. corpus - набор заданий (ENNY, Gillam, Conti4)\n",
    "\n",
    "5. group - SLI (дети со специфическим расстройством языка), TD (условно нормально развивающиеся сверстники)\n"
   ]
  },
  {
   "cell_type": "markdown",
   "metadata": {},
   "source": [
    "#### Решаемые задачи:\n",
    "\n",
    "Возраст привести к реальным числовым значениям, категориальные данные заменить на числовые значения, изменить тип данных.\n",
    "\n",
    "1.Проверить распределение total_errors на нормальность в каждой группе\n",
    "\n",
    "2.Проверить гипотезу о том, что мат ожидание total_errors одинаковое во всех группах\n",
    "\n",
    "3.Проанализировать влияние возраста на SLI в одной из групп\n",
    "\n",
    "4.Проверить есть ли корреляция между полом и нарушением речи\n"
   ]
  },
  {
   "cell_type": "markdown",
   "metadata": {},
   "source": [
    "#### Чтение и подготовка данных"
   ]
  },
  {
   "cell_type": "code",
   "execution_count": 2,
   "metadata": {},
   "outputs": [
    {
     "name": "stdout",
     "output_type": "stream",
     "text": [
      "Data is loaded!\n"
     ]
    }
   ],
   "source": [
    "data_df = pd.read_csv('SLD.csv')\n",
    "print(\"Data is loaded!\")"
   ]
  },
  {
   "cell_type": "code",
   "execution_count": 3,
   "metadata": {},
   "outputs": [
    {
     "data": {
      "text/html": [
       "<div>\n",
       "<style scoped>\n",
       "    .dataframe tbody tr th:only-of-type {\n",
       "        vertical-align: middle;\n",
       "    }\n",
       "\n",
       "    .dataframe tbody tr th {\n",
       "        vertical-align: top;\n",
       "    }\n",
       "\n",
       "    .dataframe thead th {\n",
       "        text-align: right;\n",
       "    }\n",
       "</style>\n",
       "<table border=\"1\" class=\"dataframe\">\n",
       "  <thead>\n",
       "    <tr style=\"text-align: right;\">\n",
       "      <th></th>\n",
       "      <th>filename</th>\n",
       "      <th>sex</th>\n",
       "      <th>age</th>\n",
       "      <th>corpus</th>\n",
       "      <th>group</th>\n",
       "      <th>child_TNW</th>\n",
       "      <th>child_TNS</th>\n",
       "      <th>examiner_TNW</th>\n",
       "      <th>freq_ttr</th>\n",
       "      <th>r_2_i_verbs</th>\n",
       "      <th>...</th>\n",
       "      <th>word_errors</th>\n",
       "      <th>f_k</th>\n",
       "      <th>n_v</th>\n",
       "      <th>n_aux</th>\n",
       "      <th>n_3s_v</th>\n",
       "      <th>det_n_pl</th>\n",
       "      <th>det_pl_n</th>\n",
       "      <th>pro_aux</th>\n",
       "      <th>pro_3s_v</th>\n",
       "      <th>total_error</th>\n",
       "    </tr>\n",
       "  </thead>\n",
       "  <tbody>\n",
       "    <tr>\n",
       "      <th>0</th>\n",
       "      <td>fssli009.cha</td>\n",
       "      <td>NaN</td>\n",
       "      <td>165</td>\n",
       "      <td>Conti4</td>\n",
       "      <td>SLI</td>\n",
       "      <td>287</td>\n",
       "      <td>36</td>\n",
       "      <td>4</td>\n",
       "      <td>0.333</td>\n",
       "      <td>0.108108</td>\n",
       "      <td>...</td>\n",
       "      <td>8</td>\n",
       "      <td>1.210456</td>\n",
       "      <td>0</td>\n",
       "      <td>2</td>\n",
       "      <td>2</td>\n",
       "      <td>7</td>\n",
       "      <td>0</td>\n",
       "      <td>0</td>\n",
       "      <td>1</td>\n",
       "      <td>12</td>\n",
       "    </tr>\n",
       "    <tr>\n",
       "      <th>1</th>\n",
       "      <td>fssli058.cha</td>\n",
       "      <td>NaN</td>\n",
       "      <td>172</td>\n",
       "      <td>Conti4</td>\n",
       "      <td>SLI</td>\n",
       "      <td>368</td>\n",
       "      <td>42</td>\n",
       "      <td>27</td>\n",
       "      <td>0.274</td>\n",
       "      <td>0.050000</td>\n",
       "      <td>...</td>\n",
       "      <td>16</td>\n",
       "      <td>1.871708</td>\n",
       "      <td>0</td>\n",
       "      <td>4</td>\n",
       "      <td>0</td>\n",
       "      <td>5</td>\n",
       "      <td>0</td>\n",
       "      <td>0</td>\n",
       "      <td>0</td>\n",
       "      <td>9</td>\n",
       "    </tr>\n",
       "    <tr>\n",
       "      <th>2</th>\n",
       "      <td>fssli062.cha</td>\n",
       "      <td>NaN</td>\n",
       "      <td>160</td>\n",
       "      <td>Conti4</td>\n",
       "      <td>SLI</td>\n",
       "      <td>266</td>\n",
       "      <td>26</td>\n",
       "      <td>2</td>\n",
       "      <td>0.411</td>\n",
       "      <td>0.105263</td>\n",
       "      <td>...</td>\n",
       "      <td>0</td>\n",
       "      <td>2.240602</td>\n",
       "      <td>0</td>\n",
       "      <td>1</td>\n",
       "      <td>0</td>\n",
       "      <td>5</td>\n",
       "      <td>0</td>\n",
       "      <td>0</td>\n",
       "      <td>0</td>\n",
       "      <td>6</td>\n",
       "    </tr>\n",
       "    <tr>\n",
       "      <th>3</th>\n",
       "      <td>fssli066.cha</td>\n",
       "      <td>NaN</td>\n",
       "      <td>184</td>\n",
       "      <td>Conti4</td>\n",
       "      <td>SLI</td>\n",
       "      <td>405</td>\n",
       "      <td>40</td>\n",
       "      <td>21</td>\n",
       "      <td>0.359</td>\n",
       "      <td>0.148936</td>\n",
       "      <td>...</td>\n",
       "      <td>4</td>\n",
       "      <td>1.877762</td>\n",
       "      <td>1</td>\n",
       "      <td>0</td>\n",
       "      <td>0</td>\n",
       "      <td>11</td>\n",
       "      <td>0</td>\n",
       "      <td>0</td>\n",
       "      <td>0</td>\n",
       "      <td>12</td>\n",
       "    </tr>\n",
       "    <tr>\n",
       "      <th>4</th>\n",
       "      <td>fssli108.cha</td>\n",
       "      <td>NaN</td>\n",
       "      <td>176</td>\n",
       "      <td>Conti4</td>\n",
       "      <td>SLI</td>\n",
       "      <td>300</td>\n",
       "      <td>35</td>\n",
       "      <td>20</td>\n",
       "      <td>0.279</td>\n",
       "      <td>0.150000</td>\n",
       "      <td>...</td>\n",
       "      <td>8</td>\n",
       "      <td>0.339524</td>\n",
       "      <td>0</td>\n",
       "      <td>1</td>\n",
       "      <td>1</td>\n",
       "      <td>5</td>\n",
       "      <td>0</td>\n",
       "      <td>0</td>\n",
       "      <td>0</td>\n",
       "      <td>7</td>\n",
       "    </tr>\n",
       "  </tbody>\n",
       "</table>\n",
       "<p>5 rows × 50 columns</p>\n",
       "</div>"
      ],
      "text/plain": [
       "       filename  sex  age  corpus group  child_TNW  child_TNS  examiner_TNW  \\\n",
       "0  fssli009.cha  NaN  165  Conti4   SLI        287         36             4   \n",
       "1  fssli058.cha  NaN  172  Conti4   SLI        368         42            27   \n",
       "2  fssli062.cha  NaN  160  Conti4   SLI        266         26             2   \n",
       "3  fssli066.cha  NaN  184  Conti4   SLI        405         40            21   \n",
       "4  fssli108.cha  NaN  176  Conti4   SLI        300         35            20   \n",
       "\n",
       "   freq_ttr  r_2_i_verbs  ...  word_errors       f_k  n_v  n_aux  n_3s_v  \\\n",
       "0     0.333     0.108108  ...            8  1.210456    0      2       2   \n",
       "1     0.274     0.050000  ...           16  1.871708    0      4       0   \n",
       "2     0.411     0.105263  ...            0  2.240602    0      1       0   \n",
       "3     0.359     0.148936  ...            4  1.877762    1      0       0   \n",
       "4     0.279     0.150000  ...            8  0.339524    0      1       1   \n",
       "\n",
       "   det_n_pl  det_pl_n  pro_aux  pro_3s_v  total_error  \n",
       "0         7         0        0         1           12  \n",
       "1         5         0        0         0            9  \n",
       "2         5         0        0         0            6  \n",
       "3        11         0        0         0           12  \n",
       "4         5         0        0         0            7  \n",
       "\n",
       "[5 rows x 50 columns]"
      ]
     },
     "execution_count": 3,
     "metadata": {},
     "output_type": "execute_result"
    }
   ],
   "source": [
    "data_df.head(5)"
   ]
  },
  {
   "cell_type": "code",
   "execution_count": 4,
   "metadata": {},
   "outputs": [
    {
     "name": "stdout",
     "output_type": "stream",
     "text": [
      "<class 'pandas.core.frame.DataFrame'>\n",
      "RangeIndex: 1163 entries, 0 to 1162\n",
      "Data columns (total 50 columns):\n",
      " #   Column                 Non-Null Count  Dtype  \n",
      "---  ------                 --------------  -----  \n",
      " 0   filename               1163 non-null   object \n",
      " 1   sex                    1044 non-null   object \n",
      " 2   age                    1163 non-null   int64  \n",
      " 3   corpus                 1163 non-null   object \n",
      " 4   group                  1163 non-null   object \n",
      " 5   child_TNW              1163 non-null   int64  \n",
      " 6   child_TNS              1163 non-null   int64  \n",
      " 7   examiner_TNW           1163 non-null   int64  \n",
      " 8   freq_ttr               1163 non-null   float64\n",
      " 9   r_2_i_verbs            1163 non-null   float64\n",
      " 10  num_pos_tags           1163 non-null   int64  \n",
      " 11  n_dos                  1163 non-null   int64  \n",
      " 12  repetition             1163 non-null   int64  \n",
      " 13  retracing              1163 non-null   int64  \n",
      " 14  fillers                1163 non-null   int64  \n",
      " 15  s_1g_ppl               1163 non-null   float64\n",
      " 16  s_2g_ppl               1163 non-null   float64\n",
      " 17  s_3g_ppl               1163 non-null   float64\n",
      " 18  d_1g_ppl               1163 non-null   float64\n",
      " 19  d_2g_ppl               1163 non-null   float64\n",
      " 20  average_syl            1163 non-null   float64\n",
      " 21  mlu_words              1163 non-null   float64\n",
      " 22  mlu100_utts            1163 non-null   int64  \n",
      " 23  verb_utt               1163 non-null   float64\n",
      " 24  dss                    1163 non-null   float64\n",
      " 25  ipsyn_total            1163 non-null   int64  \n",
      " 26  present_progressive    1163 non-null   int64  \n",
      " 27  propositions_in        1163 non-null   int64  \n",
      " 28  propositions_on        1163 non-null   int64  \n",
      " 29  plural_s               1163 non-null   int64  \n",
      " 30  irregular_past_tense   1163 non-null   int64  \n",
      " 31  possessive_s           1163 non-null   int64  \n",
      " 32  uncontractible_copula  1163 non-null   int64  \n",
      " 33  articles               1163 non-null   int64  \n",
      " 34  regular_past_ed        1163 non-null   int64  \n",
      " 35  regular_3rd_person_s   1163 non-null   int64  \n",
      " 36  irregular_3rd_person   1163 non-null   int64  \n",
      " 37  uncontractible_aux     1163 non-null   int64  \n",
      " 38  contractible_copula    1163 non-null   int64  \n",
      " 39  contractible_aux       1163 non-null   int64  \n",
      " 40  word_errors            1163 non-null   int64  \n",
      " 41  f_k                    1163 non-null   float64\n",
      " 42  n_v                    1163 non-null   int64  \n",
      " 43  n_aux                  1163 non-null   int64  \n",
      " 44  n_3s_v                 1163 non-null   int64  \n",
      " 45  det_n_pl               1163 non-null   int64  \n",
      " 46  det_pl_n               1163 non-null   int64  \n",
      " 47  pro_aux                1163 non-null   int64  \n",
      " 48  pro_3s_v               1163 non-null   int64  \n",
      " 49  total_error            1163 non-null   int64  \n",
      "dtypes: float64(12), int64(34), object(4)\n",
      "memory usage: 436.2+ KB\n"
     ]
    }
   ],
   "source": [
    "data_df.info()"
   ]
  },
  {
   "cell_type": "code",
   "execution_count": 5,
   "metadata": {},
   "outputs": [],
   "source": [
    "data_df['age'] = data_df['age'].astype(float) # Возраст перводим в число с плавающей точкой, так как дети были разного вораста от 4 до 14.3 лет."
   ]
  },
  {
   "cell_type": "code",
   "execution_count": 6,
   "metadata": {},
   "outputs": [],
   "source": [
    "data_df['age'] = data_df['age']/10 # Делим трехзначные числа возраста на 10, чтобы получить реальный возраст испытуемых."
   ]
  },
  {
   "cell_type": "code",
   "execution_count": 7,
   "metadata": {},
   "outputs": [
    {
     "data": {
      "text/html": [
       "<div>\n",
       "<style scoped>\n",
       "    .dataframe tbody tr th:only-of-type {\n",
       "        vertical-align: middle;\n",
       "    }\n",
       "\n",
       "    .dataframe tbody tr th {\n",
       "        vertical-align: top;\n",
       "    }\n",
       "\n",
       "    .dataframe thead th {\n",
       "        text-align: right;\n",
       "    }\n",
       "</style>\n",
       "<table border=\"1\" class=\"dataframe\">\n",
       "  <thead>\n",
       "    <tr style=\"text-align: right;\">\n",
       "      <th></th>\n",
       "      <th>filename</th>\n",
       "      <th>sex</th>\n",
       "      <th>age</th>\n",
       "      <th>corpus</th>\n",
       "      <th>group</th>\n",
       "      <th>child_TNW</th>\n",
       "      <th>child_TNS</th>\n",
       "      <th>examiner_TNW</th>\n",
       "      <th>freq_ttr</th>\n",
       "      <th>r_2_i_verbs</th>\n",
       "      <th>...</th>\n",
       "      <th>word_errors</th>\n",
       "      <th>f_k</th>\n",
       "      <th>n_v</th>\n",
       "      <th>n_aux</th>\n",
       "      <th>n_3s_v</th>\n",
       "      <th>det_n_pl</th>\n",
       "      <th>det_pl_n</th>\n",
       "      <th>pro_aux</th>\n",
       "      <th>pro_3s_v</th>\n",
       "      <th>total_error</th>\n",
       "    </tr>\n",
       "  </thead>\n",
       "  <tbody>\n",
       "    <tr>\n",
       "      <th>118</th>\n",
       "      <td>413.cha</td>\n",
       "      <td>male</td>\n",
       "      <td>5.9</td>\n",
       "      <td>ENNI</td>\n",
       "      <td>SLI</td>\n",
       "      <td>212</td>\n",
       "      <td>66</td>\n",
       "      <td>14</td>\n",
       "      <td>0.412</td>\n",
       "      <td>5.142857</td>\n",
       "      <td>...</td>\n",
       "      <td>0</td>\n",
       "      <td>-0.533499</td>\n",
       "      <td>0</td>\n",
       "      <td>0</td>\n",
       "      <td>0</td>\n",
       "      <td>5</td>\n",
       "      <td>0</td>\n",
       "      <td>0</td>\n",
       "      <td>0</td>\n",
       "      <td>5</td>\n",
       "    </tr>\n",
       "    <tr>\n",
       "      <th>119</th>\n",
       "      <td>420.cha</td>\n",
       "      <td>male</td>\n",
       "      <td>6.0</td>\n",
       "      <td>ENNI</td>\n",
       "      <td>SLI</td>\n",
       "      <td>468</td>\n",
       "      <td>67</td>\n",
       "      <td>2</td>\n",
       "      <td>0.239</td>\n",
       "      <td>1.366667</td>\n",
       "      <td>...</td>\n",
       "      <td>1</td>\n",
       "      <td>0.875632</td>\n",
       "      <td>14</td>\n",
       "      <td>7</td>\n",
       "      <td>0</td>\n",
       "      <td>4</td>\n",
       "      <td>0</td>\n",
       "      <td>0</td>\n",
       "      <td>0</td>\n",
       "      <td>25</td>\n",
       "    </tr>\n",
       "    <tr>\n",
       "      <th>120</th>\n",
       "      <td>427.cha</td>\n",
       "      <td>female</td>\n",
       "      <td>5.6</td>\n",
       "      <td>ENNI</td>\n",
       "      <td>SLI</td>\n",
       "      <td>212</td>\n",
       "      <td>67</td>\n",
       "      <td>8</td>\n",
       "      <td>0.369</td>\n",
       "      <td>0.600000</td>\n",
       "      <td>...</td>\n",
       "      <td>0</td>\n",
       "      <td>-1.387102</td>\n",
       "      <td>0</td>\n",
       "      <td>4</td>\n",
       "      <td>0</td>\n",
       "      <td>4</td>\n",
       "      <td>0</td>\n",
       "      <td>0</td>\n",
       "      <td>0</td>\n",
       "      <td>8</td>\n",
       "    </tr>\n",
       "    <tr>\n",
       "      <th>121</th>\n",
       "      <td>444.cha</td>\n",
       "      <td>male</td>\n",
       "      <td>5.0</td>\n",
       "      <td>ENNI</td>\n",
       "      <td>SLI</td>\n",
       "      <td>292</td>\n",
       "      <td>90</td>\n",
       "      <td>20</td>\n",
       "      <td>0.232</td>\n",
       "      <td>0.600000</td>\n",
       "      <td>...</td>\n",
       "      <td>0</td>\n",
       "      <td>3.294511</td>\n",
       "      <td>0</td>\n",
       "      <td>1</td>\n",
       "      <td>0</td>\n",
       "      <td>17</td>\n",
       "      <td>0</td>\n",
       "      <td>0</td>\n",
       "      <td>0</td>\n",
       "      <td>18</td>\n",
       "    </tr>\n",
       "    <tr>\n",
       "      <th>122</th>\n",
       "      <td>474.cha</td>\n",
       "      <td>female</td>\n",
       "      <td>5.7</td>\n",
       "      <td>ENNI</td>\n",
       "      <td>SLI</td>\n",
       "      <td>611</td>\n",
       "      <td>100</td>\n",
       "      <td>202</td>\n",
       "      <td>0.230</td>\n",
       "      <td>1.000000</td>\n",
       "      <td>...</td>\n",
       "      <td>0</td>\n",
       "      <td>-2.855545</td>\n",
       "      <td>4</td>\n",
       "      <td>0</td>\n",
       "      <td>1</td>\n",
       "      <td>6</td>\n",
       "      <td>0</td>\n",
       "      <td>0</td>\n",
       "      <td>1</td>\n",
       "      <td>12</td>\n",
       "    </tr>\n",
       "    <tr>\n",
       "      <th>...</th>\n",
       "      <td>...</td>\n",
       "      <td>...</td>\n",
       "      <td>...</td>\n",
       "      <td>...</td>\n",
       "      <td>...</td>\n",
       "      <td>...</td>\n",
       "      <td>...</td>\n",
       "      <td>...</td>\n",
       "      <td>...</td>\n",
       "      <td>...</td>\n",
       "      <td>...</td>\n",
       "      <td>...</td>\n",
       "      <td>...</td>\n",
       "      <td>...</td>\n",
       "      <td>...</td>\n",
       "      <td>...</td>\n",
       "      <td>...</td>\n",
       "      <td>...</td>\n",
       "      <td>...</td>\n",
       "      <td>...</td>\n",
       "      <td>...</td>\n",
       "    </tr>\n",
       "    <tr>\n",
       "      <th>490</th>\n",
       "      <td>969.cha</td>\n",
       "      <td>female</td>\n",
       "      <td>11.2</td>\n",
       "      <td>ENNI</td>\n",
       "      <td>TD</td>\n",
       "      <td>663</td>\n",
       "      <td>70</td>\n",
       "      <td>0</td>\n",
       "      <td>0.251</td>\n",
       "      <td>0.195122</td>\n",
       "      <td>...</td>\n",
       "      <td>0</td>\n",
       "      <td>2.288774</td>\n",
       "      <td>1</td>\n",
       "      <td>0</td>\n",
       "      <td>0</td>\n",
       "      <td>9</td>\n",
       "      <td>0</td>\n",
       "      <td>0</td>\n",
       "      <td>3</td>\n",
       "      <td>13</td>\n",
       "    </tr>\n",
       "    <tr>\n",
       "      <th>491</th>\n",
       "      <td>970.cha</td>\n",
       "      <td>male</td>\n",
       "      <td>11.5</td>\n",
       "      <td>ENNI</td>\n",
       "      <td>TD</td>\n",
       "      <td>784</td>\n",
       "      <td>69</td>\n",
       "      <td>0</td>\n",
       "      <td>0.266</td>\n",
       "      <td>0.149533</td>\n",
       "      <td>...</td>\n",
       "      <td>0</td>\n",
       "      <td>4.193345</td>\n",
       "      <td>2</td>\n",
       "      <td>1</td>\n",
       "      <td>0</td>\n",
       "      <td>3</td>\n",
       "      <td>0</td>\n",
       "      <td>0</td>\n",
       "      <td>5</td>\n",
       "      <td>11</td>\n",
       "    </tr>\n",
       "    <tr>\n",
       "      <th>492</th>\n",
       "      <td>971.cha</td>\n",
       "      <td>female</td>\n",
       "      <td>11.1</td>\n",
       "      <td>ENNI</td>\n",
       "      <td>TD</td>\n",
       "      <td>452</td>\n",
       "      <td>52</td>\n",
       "      <td>0</td>\n",
       "      <td>0.338</td>\n",
       "      <td>0.264706</td>\n",
       "      <td>...</td>\n",
       "      <td>0</td>\n",
       "      <td>3.750885</td>\n",
       "      <td>2</td>\n",
       "      <td>5</td>\n",
       "      <td>0</td>\n",
       "      <td>7</td>\n",
       "      <td>0</td>\n",
       "      <td>0</td>\n",
       "      <td>3</td>\n",
       "      <td>17</td>\n",
       "    </tr>\n",
       "    <tr>\n",
       "      <th>493</th>\n",
       "      <td>972.cha</td>\n",
       "      <td>male</td>\n",
       "      <td>11.4</td>\n",
       "      <td>ENNI</td>\n",
       "      <td>TD</td>\n",
       "      <td>591</td>\n",
       "      <td>64</td>\n",
       "      <td>0</td>\n",
       "      <td>0.274</td>\n",
       "      <td>0.181818</td>\n",
       "      <td>...</td>\n",
       "      <td>0</td>\n",
       "      <td>1.748124</td>\n",
       "      <td>0</td>\n",
       "      <td>2</td>\n",
       "      <td>8</td>\n",
       "      <td>10</td>\n",
       "      <td>0</td>\n",
       "      <td>0</td>\n",
       "      <td>3</td>\n",
       "      <td>23</td>\n",
       "    </tr>\n",
       "    <tr>\n",
       "      <th>494</th>\n",
       "      <td>974.cha</td>\n",
       "      <td>male</td>\n",
       "      <td>11.6</td>\n",
       "      <td>ENNI</td>\n",
       "      <td>TD</td>\n",
       "      <td>598</td>\n",
       "      <td>85</td>\n",
       "      <td>0</td>\n",
       "      <td>0.237</td>\n",
       "      <td>0.300000</td>\n",
       "      <td>...</td>\n",
       "      <td>0</td>\n",
       "      <td>-0.138543</td>\n",
       "      <td>3</td>\n",
       "      <td>3</td>\n",
       "      <td>7</td>\n",
       "      <td>10</td>\n",
       "      <td>0</td>\n",
       "      <td>1</td>\n",
       "      <td>1</td>\n",
       "      <td>25</td>\n",
       "    </tr>\n",
       "  </tbody>\n",
       "</table>\n",
       "<p>377 rows × 50 columns</p>\n",
       "</div>"
      ],
      "text/plain": [
       "    filename     sex   age corpus group  child_TNW  child_TNS  examiner_TNW  \\\n",
       "118  413.cha    male   5.9   ENNI   SLI        212         66            14   \n",
       "119  420.cha    male   6.0   ENNI   SLI        468         67             2   \n",
       "120  427.cha  female   5.6   ENNI   SLI        212         67             8   \n",
       "121  444.cha    male   5.0   ENNI   SLI        292         90            20   \n",
       "122  474.cha  female   5.7   ENNI   SLI        611        100           202   \n",
       "..       ...     ...   ...    ...   ...        ...        ...           ...   \n",
       "490  969.cha  female  11.2   ENNI    TD        663         70             0   \n",
       "491  970.cha    male  11.5   ENNI    TD        784         69             0   \n",
       "492  971.cha  female  11.1   ENNI    TD        452         52             0   \n",
       "493  972.cha    male  11.4   ENNI    TD        591         64             0   \n",
       "494  974.cha    male  11.6   ENNI    TD        598         85             0   \n",
       "\n",
       "     freq_ttr  r_2_i_verbs  ...  word_errors       f_k  n_v  n_aux  n_3s_v  \\\n",
       "118     0.412     5.142857  ...            0 -0.533499    0      0       0   \n",
       "119     0.239     1.366667  ...            1  0.875632   14      7       0   \n",
       "120     0.369     0.600000  ...            0 -1.387102    0      4       0   \n",
       "121     0.232     0.600000  ...            0  3.294511    0      1       0   \n",
       "122     0.230     1.000000  ...            0 -2.855545    4      0       1   \n",
       "..        ...          ...  ...          ...       ...  ...    ...     ...   \n",
       "490     0.251     0.195122  ...            0  2.288774    1      0       0   \n",
       "491     0.266     0.149533  ...            0  4.193345    2      1       0   \n",
       "492     0.338     0.264706  ...            0  3.750885    2      5       0   \n",
       "493     0.274     0.181818  ...            0  1.748124    0      2       8   \n",
       "494     0.237     0.300000  ...            0 -0.138543    3      3       7   \n",
       "\n",
       "     det_n_pl  det_pl_n  pro_aux  pro_3s_v  total_error  \n",
       "118         5         0        0         0            5  \n",
       "119         4         0        0         0           25  \n",
       "120         4         0        0         0            8  \n",
       "121        17         0        0         0           18  \n",
       "122         6         0        0         1           12  \n",
       "..        ...       ...      ...       ...          ...  \n",
       "490         9         0        0         3           13  \n",
       "491         3         0        0         5           11  \n",
       "492         7         0        0         3           17  \n",
       "493        10         0        0         3           23  \n",
       "494        10         0        1         1           25  \n",
       "\n",
       "[377 rows x 50 columns]"
      ]
     },
     "execution_count": 7,
     "metadata": {},
     "output_type": "execute_result"
    }
   ],
   "source": [
    "#Количество выборок по каждому набору заданий.\n",
    "data_df.loc[data_df['corpus'] == 'ENNI', :] # ENNI =  #377 rows GILLAM = #668 rows Conti4 = #118 rows"
   ]
  },
  {
   "cell_type": "markdown",
   "metadata": {},
   "source": [
    "Приводим категориальные данные в цифровой вид, чтобы было можно посчитать статистику в зависимости от категории.\n",
    "\n",
    "sex: male = 1 female = 0\n",
    " \n",
    "group:  SLI = 1 TD = 0\n"
   ]
  },
  {
   "cell_type": "code",
   "execution_count": 8,
   "metadata": {},
   "outputs": [],
   "source": [
    "data_df.loc[data_df['sex'] == 'male', 'sex']=1 \n",
    "data_df.loc[data_df['sex'] == 'female', 'sex']=0 "
   ]
  },
  {
   "cell_type": "code",
   "execution_count": 44,
   "metadata": {},
   "outputs": [],
   "source": [
    "#Приведение типов ячеек к int.\n",
    "data_df['sex'] = data_df['sex'].astype(float)\n",
    "data_df['group'] = data_df['group'].astype(float)"
   ]
  },
  {
   "cell_type": "code",
   "execution_count": 9,
   "metadata": {},
   "outputs": [
    {
     "data": {
      "text/html": [
       "<div>\n",
       "<style scoped>\n",
       "    .dataframe tbody tr th:only-of-type {\n",
       "        vertical-align: middle;\n",
       "    }\n",
       "\n",
       "    .dataframe tbody tr th {\n",
       "        vertical-align: top;\n",
       "    }\n",
       "\n",
       "    .dataframe thead th {\n",
       "        text-align: right;\n",
       "    }\n",
       "</style>\n",
       "<table border=\"1\" class=\"dataframe\">\n",
       "  <thead>\n",
       "    <tr style=\"text-align: right;\">\n",
       "      <th></th>\n",
       "      <th>filename</th>\n",
       "      <th>sex</th>\n",
       "      <th>age</th>\n",
       "      <th>corpus</th>\n",
       "      <th>group</th>\n",
       "      <th>child_TNW</th>\n",
       "      <th>child_TNS</th>\n",
       "      <th>examiner_TNW</th>\n",
       "      <th>freq_ttr</th>\n",
       "      <th>r_2_i_verbs</th>\n",
       "      <th>...</th>\n",
       "      <th>word_errors</th>\n",
       "      <th>f_k</th>\n",
       "      <th>n_v</th>\n",
       "      <th>n_aux</th>\n",
       "      <th>n_3s_v</th>\n",
       "      <th>det_n_pl</th>\n",
       "      <th>det_pl_n</th>\n",
       "      <th>pro_aux</th>\n",
       "      <th>pro_3s_v</th>\n",
       "      <th>total_error</th>\n",
       "    </tr>\n",
       "  </thead>\n",
       "  <tbody>\n",
       "    <tr>\n",
       "      <th>118</th>\n",
       "      <td>413.cha</td>\n",
       "      <td>1</td>\n",
       "      <td>5.9</td>\n",
       "      <td>ENNI</td>\n",
       "      <td>SLI</td>\n",
       "      <td>212</td>\n",
       "      <td>66</td>\n",
       "      <td>14</td>\n",
       "      <td>0.412</td>\n",
       "      <td>5.142857</td>\n",
       "      <td>...</td>\n",
       "      <td>0</td>\n",
       "      <td>-0.533499</td>\n",
       "      <td>0</td>\n",
       "      <td>0</td>\n",
       "      <td>0</td>\n",
       "      <td>5</td>\n",
       "      <td>0</td>\n",
       "      <td>0</td>\n",
       "      <td>0</td>\n",
       "      <td>5</td>\n",
       "    </tr>\n",
       "    <tr>\n",
       "      <th>119</th>\n",
       "      <td>420.cha</td>\n",
       "      <td>1</td>\n",
       "      <td>6.0</td>\n",
       "      <td>ENNI</td>\n",
       "      <td>SLI</td>\n",
       "      <td>468</td>\n",
       "      <td>67</td>\n",
       "      <td>2</td>\n",
       "      <td>0.239</td>\n",
       "      <td>1.366667</td>\n",
       "      <td>...</td>\n",
       "      <td>1</td>\n",
       "      <td>0.875632</td>\n",
       "      <td>14</td>\n",
       "      <td>7</td>\n",
       "      <td>0</td>\n",
       "      <td>4</td>\n",
       "      <td>0</td>\n",
       "      <td>0</td>\n",
       "      <td>0</td>\n",
       "      <td>25</td>\n",
       "    </tr>\n",
       "    <tr>\n",
       "      <th>121</th>\n",
       "      <td>444.cha</td>\n",
       "      <td>1</td>\n",
       "      <td>5.0</td>\n",
       "      <td>ENNI</td>\n",
       "      <td>SLI</td>\n",
       "      <td>292</td>\n",
       "      <td>90</td>\n",
       "      <td>20</td>\n",
       "      <td>0.232</td>\n",
       "      <td>0.600000</td>\n",
       "      <td>...</td>\n",
       "      <td>0</td>\n",
       "      <td>3.294511</td>\n",
       "      <td>0</td>\n",
       "      <td>1</td>\n",
       "      <td>0</td>\n",
       "      <td>17</td>\n",
       "      <td>0</td>\n",
       "      <td>0</td>\n",
       "      <td>0</td>\n",
       "      <td>18</td>\n",
       "    </tr>\n",
       "    <tr>\n",
       "      <th>123</th>\n",
       "      <td>475.cha</td>\n",
       "      <td>1</td>\n",
       "      <td>5.6</td>\n",
       "      <td>ENNI</td>\n",
       "      <td>SLI</td>\n",
       "      <td>321</td>\n",
       "      <td>64</td>\n",
       "      <td>20</td>\n",
       "      <td>0.257</td>\n",
       "      <td>0.105263</td>\n",
       "      <td>...</td>\n",
       "      <td>0</td>\n",
       "      <td>-2.973470</td>\n",
       "      <td>1</td>\n",
       "      <td>0</td>\n",
       "      <td>0</td>\n",
       "      <td>4</td>\n",
       "      <td>0</td>\n",
       "      <td>0</td>\n",
       "      <td>1</td>\n",
       "      <td>6</td>\n",
       "    </tr>\n",
       "    <tr>\n",
       "      <th>124</th>\n",
       "      <td>476.cha</td>\n",
       "      <td>1</td>\n",
       "      <td>5.7</td>\n",
       "      <td>ENNI</td>\n",
       "      <td>SLI</td>\n",
       "      <td>658</td>\n",
       "      <td>97</td>\n",
       "      <td>315</td>\n",
       "      <td>0.197</td>\n",
       "      <td>0.272727</td>\n",
       "      <td>...</td>\n",
       "      <td>1</td>\n",
       "      <td>0.702679</td>\n",
       "      <td>4</td>\n",
       "      <td>2</td>\n",
       "      <td>0</td>\n",
       "      <td>5</td>\n",
       "      <td>0</td>\n",
       "      <td>0</td>\n",
       "      <td>0</td>\n",
       "      <td>11</td>\n",
       "    </tr>\n",
       "    <tr>\n",
       "      <th>...</th>\n",
       "      <td>...</td>\n",
       "      <td>...</td>\n",
       "      <td>...</td>\n",
       "      <td>...</td>\n",
       "      <td>...</td>\n",
       "      <td>...</td>\n",
       "      <td>...</td>\n",
       "      <td>...</td>\n",
       "      <td>...</td>\n",
       "      <td>...</td>\n",
       "      <td>...</td>\n",
       "      <td>...</td>\n",
       "      <td>...</td>\n",
       "      <td>...</td>\n",
       "      <td>...</td>\n",
       "      <td>...</td>\n",
       "      <td>...</td>\n",
       "      <td>...</td>\n",
       "      <td>...</td>\n",
       "      <td>...</td>\n",
       "      <td>...</td>\n",
       "    </tr>\n",
       "    <tr>\n",
       "      <th>1156</th>\n",
       "      <td>9y54974ks.cha</td>\n",
       "      <td>1</td>\n",
       "      <td>10.8</td>\n",
       "      <td>Gillam</td>\n",
       "      <td>TD</td>\n",
       "      <td>219</td>\n",
       "      <td>25</td>\n",
       "      <td>0</td>\n",
       "      <td>0.453</td>\n",
       "      <td>0.250000</td>\n",
       "      <td>...</td>\n",
       "      <td>0</td>\n",
       "      <td>2.051058</td>\n",
       "      <td>0</td>\n",
       "      <td>0</td>\n",
       "      <td>0</td>\n",
       "      <td>2</td>\n",
       "      <td>0</td>\n",
       "      <td>0</td>\n",
       "      <td>2</td>\n",
       "      <td>4</td>\n",
       "    </tr>\n",
       "    <tr>\n",
       "      <th>1157</th>\n",
       "      <td>9y54975ks.cha</td>\n",
       "      <td>1</td>\n",
       "      <td>10.9</td>\n",
       "      <td>Gillam</td>\n",
       "      <td>TD</td>\n",
       "      <td>364</td>\n",
       "      <td>40</td>\n",
       "      <td>1</td>\n",
       "      <td>0.480</td>\n",
       "      <td>0.326531</td>\n",
       "      <td>...</td>\n",
       "      <td>0</td>\n",
       "      <td>3.681527</td>\n",
       "      <td>2</td>\n",
       "      <td>0</td>\n",
       "      <td>0</td>\n",
       "      <td>10</td>\n",
       "      <td>0</td>\n",
       "      <td>0</td>\n",
       "      <td>2</td>\n",
       "      <td>14</td>\n",
       "    </tr>\n",
       "    <tr>\n",
       "      <th>1160</th>\n",
       "      <td>9y54979ks.cha</td>\n",
       "      <td>1</td>\n",
       "      <td>11.9</td>\n",
       "      <td>Gillam</td>\n",
       "      <td>TD</td>\n",
       "      <td>337</td>\n",
       "      <td>29</td>\n",
       "      <td>18</td>\n",
       "      <td>0.409</td>\n",
       "      <td>0.315789</td>\n",
       "      <td>...</td>\n",
       "      <td>0</td>\n",
       "      <td>3.123078</td>\n",
       "      <td>0</td>\n",
       "      <td>0</td>\n",
       "      <td>0</td>\n",
       "      <td>5</td>\n",
       "      <td>0</td>\n",
       "      <td>0</td>\n",
       "      <td>4</td>\n",
       "      <td>9</td>\n",
       "    </tr>\n",
       "    <tr>\n",
       "      <th>1161</th>\n",
       "      <td>9y54984ks.cha</td>\n",
       "      <td>1</td>\n",
       "      <td>11.2</td>\n",
       "      <td>Gillam</td>\n",
       "      <td>TD</td>\n",
       "      <td>511</td>\n",
       "      <td>45</td>\n",
       "      <td>4</td>\n",
       "      <td>0.382</td>\n",
       "      <td>0.381818</td>\n",
       "      <td>...</td>\n",
       "      <td>0</td>\n",
       "      <td>3.548256</td>\n",
       "      <td>1</td>\n",
       "      <td>0</td>\n",
       "      <td>0</td>\n",
       "      <td>9</td>\n",
       "      <td>0</td>\n",
       "      <td>0</td>\n",
       "      <td>5</td>\n",
       "      <td>15</td>\n",
       "    </tr>\n",
       "    <tr>\n",
       "      <th>1162</th>\n",
       "      <td>9y54994ks.cha</td>\n",
       "      <td>1</td>\n",
       "      <td>10.8</td>\n",
       "      <td>Gillam</td>\n",
       "      <td>TD</td>\n",
       "      <td>495</td>\n",
       "      <td>57</td>\n",
       "      <td>5</td>\n",
       "      <td>0.396</td>\n",
       "      <td>0.309091</td>\n",
       "      <td>...</td>\n",
       "      <td>0</td>\n",
       "      <td>1.789973</td>\n",
       "      <td>0</td>\n",
       "      <td>1</td>\n",
       "      <td>0</td>\n",
       "      <td>7</td>\n",
       "      <td>0</td>\n",
       "      <td>0</td>\n",
       "      <td>4</td>\n",
       "      <td>12</td>\n",
       "    </tr>\n",
       "  </tbody>\n",
       "</table>\n",
       "<p>541 rows × 50 columns</p>\n",
       "</div>"
      ],
      "text/plain": [
       "           filename sex   age  corpus group  child_TNW  child_TNS  \\\n",
       "118         413.cha   1   5.9    ENNI   SLI        212         66   \n",
       "119         420.cha   1   6.0    ENNI   SLI        468         67   \n",
       "121         444.cha   1   5.0    ENNI   SLI        292         90   \n",
       "123         475.cha   1   5.6    ENNI   SLI        321         64   \n",
       "124         476.cha   1   5.7    ENNI   SLI        658         97   \n",
       "...             ...  ..   ...     ...   ...        ...        ...   \n",
       "1156  9y54974ks.cha   1  10.8  Gillam    TD        219         25   \n",
       "1157  9y54975ks.cha   1  10.9  Gillam    TD        364         40   \n",
       "1160  9y54979ks.cha   1  11.9  Gillam    TD        337         29   \n",
       "1161  9y54984ks.cha   1  11.2  Gillam    TD        511         45   \n",
       "1162  9y54994ks.cha   1  10.8  Gillam    TD        495         57   \n",
       "\n",
       "      examiner_TNW  freq_ttr  r_2_i_verbs  ...  word_errors       f_k  n_v  \\\n",
       "118             14     0.412     5.142857  ...            0 -0.533499    0   \n",
       "119              2     0.239     1.366667  ...            1  0.875632   14   \n",
       "121             20     0.232     0.600000  ...            0  3.294511    0   \n",
       "123             20     0.257     0.105263  ...            0 -2.973470    1   \n",
       "124            315     0.197     0.272727  ...            1  0.702679    4   \n",
       "...            ...       ...          ...  ...          ...       ...  ...   \n",
       "1156             0     0.453     0.250000  ...            0  2.051058    0   \n",
       "1157             1     0.480     0.326531  ...            0  3.681527    2   \n",
       "1160            18     0.409     0.315789  ...            0  3.123078    0   \n",
       "1161             4     0.382     0.381818  ...            0  3.548256    1   \n",
       "1162             5     0.396     0.309091  ...            0  1.789973    0   \n",
       "\n",
       "      n_aux  n_3s_v  det_n_pl  det_pl_n  pro_aux  pro_3s_v  total_error  \n",
       "118       0       0         5         0        0         0            5  \n",
       "119       7       0         4         0        0         0           25  \n",
       "121       1       0        17         0        0         0           18  \n",
       "123       0       0         4         0        0         1            6  \n",
       "124       2       0         5         0        0         0           11  \n",
       "...     ...     ...       ...       ...      ...       ...          ...  \n",
       "1156      0       0         2         0        0         2            4  \n",
       "1157      0       0        10         0        0         2           14  \n",
       "1160      0       0         5         0        0         4            9  \n",
       "1161      0       0         9         0        0         5           15  \n",
       "1162      1       0         7         0        0         4           12  \n",
       "\n",
       "[541 rows x 50 columns]"
      ]
     },
     "execution_count": 9,
     "metadata": {},
     "output_type": "execute_result"
    }
   ],
   "source": [
    "data_df.loc[data_df['sex'] == 1]"
   ]
  },
  {
   "cell_type": "code",
   "execution_count": 10,
   "metadata": {},
   "outputs": [],
   "source": [
    "data_df.loc[data_df['group'] == 'SLI', 'group']=1 \n",
    "data_df.loc[data_df['group'] == 'TD', 'group']=0 "
   ]
  },
  {
   "cell_type": "code",
   "execution_count": 11,
   "metadata": {},
   "outputs": [
    {
     "data": {
      "text/html": [
       "<div>\n",
       "<style scoped>\n",
       "    .dataframe tbody tr th:only-of-type {\n",
       "        vertical-align: middle;\n",
       "    }\n",
       "\n",
       "    .dataframe tbody tr th {\n",
       "        vertical-align: top;\n",
       "    }\n",
       "\n",
       "    .dataframe thead th {\n",
       "        text-align: right;\n",
       "    }\n",
       "</style>\n",
       "<table border=\"1\" class=\"dataframe\">\n",
       "  <thead>\n",
       "    <tr style=\"text-align: right;\">\n",
       "      <th></th>\n",
       "      <th>filename</th>\n",
       "      <th>sex</th>\n",
       "      <th>age</th>\n",
       "      <th>corpus</th>\n",
       "      <th>group</th>\n",
       "      <th>child_TNW</th>\n",
       "      <th>child_TNS</th>\n",
       "      <th>examiner_TNW</th>\n",
       "      <th>freq_ttr</th>\n",
       "      <th>r_2_i_verbs</th>\n",
       "      <th>...</th>\n",
       "      <th>word_errors</th>\n",
       "      <th>f_k</th>\n",
       "      <th>n_v</th>\n",
       "      <th>n_aux</th>\n",
       "      <th>n_3s_v</th>\n",
       "      <th>det_n_pl</th>\n",
       "      <th>det_pl_n</th>\n",
       "      <th>pro_aux</th>\n",
       "      <th>pro_3s_v</th>\n",
       "      <th>total_error</th>\n",
       "    </tr>\n",
       "  </thead>\n",
       "  <tbody>\n",
       "    <tr>\n",
       "      <th>0</th>\n",
       "      <td>fssli009.cha</td>\n",
       "      <td>NaN</td>\n",
       "      <td>16.5</td>\n",
       "      <td>Conti4</td>\n",
       "      <td>1</td>\n",
       "      <td>287</td>\n",
       "      <td>36</td>\n",
       "      <td>4</td>\n",
       "      <td>0.333</td>\n",
       "      <td>0.108108</td>\n",
       "      <td>...</td>\n",
       "      <td>8</td>\n",
       "      <td>1.210456</td>\n",
       "      <td>0</td>\n",
       "      <td>2</td>\n",
       "      <td>2</td>\n",
       "      <td>7</td>\n",
       "      <td>0</td>\n",
       "      <td>0</td>\n",
       "      <td>1</td>\n",
       "      <td>12</td>\n",
       "    </tr>\n",
       "    <tr>\n",
       "      <th>1</th>\n",
       "      <td>fssli058.cha</td>\n",
       "      <td>NaN</td>\n",
       "      <td>17.2</td>\n",
       "      <td>Conti4</td>\n",
       "      <td>1</td>\n",
       "      <td>368</td>\n",
       "      <td>42</td>\n",
       "      <td>27</td>\n",
       "      <td>0.274</td>\n",
       "      <td>0.050000</td>\n",
       "      <td>...</td>\n",
       "      <td>16</td>\n",
       "      <td>1.871708</td>\n",
       "      <td>0</td>\n",
       "      <td>4</td>\n",
       "      <td>0</td>\n",
       "      <td>5</td>\n",
       "      <td>0</td>\n",
       "      <td>0</td>\n",
       "      <td>0</td>\n",
       "      <td>9</td>\n",
       "    </tr>\n",
       "    <tr>\n",
       "      <th>2</th>\n",
       "      <td>fssli062.cha</td>\n",
       "      <td>NaN</td>\n",
       "      <td>16.0</td>\n",
       "      <td>Conti4</td>\n",
       "      <td>1</td>\n",
       "      <td>266</td>\n",
       "      <td>26</td>\n",
       "      <td>2</td>\n",
       "      <td>0.411</td>\n",
       "      <td>0.105263</td>\n",
       "      <td>...</td>\n",
       "      <td>0</td>\n",
       "      <td>2.240602</td>\n",
       "      <td>0</td>\n",
       "      <td>1</td>\n",
       "      <td>0</td>\n",
       "      <td>5</td>\n",
       "      <td>0</td>\n",
       "      <td>0</td>\n",
       "      <td>0</td>\n",
       "      <td>6</td>\n",
       "    </tr>\n",
       "    <tr>\n",
       "      <th>3</th>\n",
       "      <td>fssli066.cha</td>\n",
       "      <td>NaN</td>\n",
       "      <td>18.4</td>\n",
       "      <td>Conti4</td>\n",
       "      <td>1</td>\n",
       "      <td>405</td>\n",
       "      <td>40</td>\n",
       "      <td>21</td>\n",
       "      <td>0.359</td>\n",
       "      <td>0.148936</td>\n",
       "      <td>...</td>\n",
       "      <td>4</td>\n",
       "      <td>1.877762</td>\n",
       "      <td>1</td>\n",
       "      <td>0</td>\n",
       "      <td>0</td>\n",
       "      <td>11</td>\n",
       "      <td>0</td>\n",
       "      <td>0</td>\n",
       "      <td>0</td>\n",
       "      <td>12</td>\n",
       "    </tr>\n",
       "    <tr>\n",
       "      <th>4</th>\n",
       "      <td>fssli108.cha</td>\n",
       "      <td>NaN</td>\n",
       "      <td>17.6</td>\n",
       "      <td>Conti4</td>\n",
       "      <td>1</td>\n",
       "      <td>300</td>\n",
       "      <td>35</td>\n",
       "      <td>20</td>\n",
       "      <td>0.279</td>\n",
       "      <td>0.150000</td>\n",
       "      <td>...</td>\n",
       "      <td>8</td>\n",
       "      <td>0.339524</td>\n",
       "      <td>0</td>\n",
       "      <td>1</td>\n",
       "      <td>1</td>\n",
       "      <td>5</td>\n",
       "      <td>0</td>\n",
       "      <td>0</td>\n",
       "      <td>0</td>\n",
       "      <td>7</td>\n",
       "    </tr>\n",
       "    <tr>\n",
       "      <th>...</th>\n",
       "      <td>...</td>\n",
       "      <td>...</td>\n",
       "      <td>...</td>\n",
       "      <td>...</td>\n",
       "      <td>...</td>\n",
       "      <td>...</td>\n",
       "      <td>...</td>\n",
       "      <td>...</td>\n",
       "      <td>...</td>\n",
       "      <td>...</td>\n",
       "      <td>...</td>\n",
       "      <td>...</td>\n",
       "      <td>...</td>\n",
       "      <td>...</td>\n",
       "      <td>...</td>\n",
       "      <td>...</td>\n",
       "      <td>...</td>\n",
       "      <td>...</td>\n",
       "      <td>...</td>\n",
       "      <td>...</td>\n",
       "      <td>...</td>\n",
       "    </tr>\n",
       "    <tr>\n",
       "      <th>661</th>\n",
       "      <td>a-3-69.cha</td>\n",
       "      <td>1</td>\n",
       "      <td>9.3</td>\n",
       "      <td>Gillam</td>\n",
       "      <td>1</td>\n",
       "      <td>181</td>\n",
       "      <td>23</td>\n",
       "      <td>8</td>\n",
       "      <td>0.506</td>\n",
       "      <td>0.375000</td>\n",
       "      <td>...</td>\n",
       "      <td>4</td>\n",
       "      <td>1.560898</td>\n",
       "      <td>0</td>\n",
       "      <td>0</td>\n",
       "      <td>0</td>\n",
       "      <td>2</td>\n",
       "      <td>0</td>\n",
       "      <td>0</td>\n",
       "      <td>0</td>\n",
       "      <td>2</td>\n",
       "    </tr>\n",
       "    <tr>\n",
       "      <th>662</th>\n",
       "      <td>a-3-70.cha</td>\n",
       "      <td>0</td>\n",
       "      <td>9.3</td>\n",
       "      <td>Gillam</td>\n",
       "      <td>1</td>\n",
       "      <td>443</td>\n",
       "      <td>42</td>\n",
       "      <td>0</td>\n",
       "      <td>0.461</td>\n",
       "      <td>0.325581</td>\n",
       "      <td>...</td>\n",
       "      <td>0</td>\n",
       "      <td>2.161495</td>\n",
       "      <td>0</td>\n",
       "      <td>0</td>\n",
       "      <td>0</td>\n",
       "      <td>4</td>\n",
       "      <td>0</td>\n",
       "      <td>0</td>\n",
       "      <td>0</td>\n",
       "      <td>4</td>\n",
       "    </tr>\n",
       "    <tr>\n",
       "      <th>663</th>\n",
       "      <td>a-3-72.cha</td>\n",
       "      <td>1</td>\n",
       "      <td>8.6</td>\n",
       "      <td>Gillam</td>\n",
       "      <td>1</td>\n",
       "      <td>230</td>\n",
       "      <td>30</td>\n",
       "      <td>41</td>\n",
       "      <td>0.468</td>\n",
       "      <td>0.800000</td>\n",
       "      <td>...</td>\n",
       "      <td>1</td>\n",
       "      <td>0.123478</td>\n",
       "      <td>0</td>\n",
       "      <td>1</td>\n",
       "      <td>1</td>\n",
       "      <td>2</td>\n",
       "      <td>0</td>\n",
       "      <td>0</td>\n",
       "      <td>0</td>\n",
       "      <td>4</td>\n",
       "    </tr>\n",
       "    <tr>\n",
       "      <th>664</th>\n",
       "      <td>a-3-73.cha</td>\n",
       "      <td>1</td>\n",
       "      <td>10.0</td>\n",
       "      <td>Gillam</td>\n",
       "      <td>1</td>\n",
       "      <td>158</td>\n",
       "      <td>20</td>\n",
       "      <td>40</td>\n",
       "      <td>0.488</td>\n",
       "      <td>1.000000</td>\n",
       "      <td>...</td>\n",
       "      <td>3</td>\n",
       "      <td>-0.111532</td>\n",
       "      <td>1</td>\n",
       "      <td>1</td>\n",
       "      <td>0</td>\n",
       "      <td>2</td>\n",
       "      <td>0</td>\n",
       "      <td>0</td>\n",
       "      <td>4</td>\n",
       "      <td>8</td>\n",
       "    </tr>\n",
       "    <tr>\n",
       "      <th>665</th>\n",
       "      <td>a-3-74.cha</td>\n",
       "      <td>0</td>\n",
       "      <td>8.6</td>\n",
       "      <td>Gillam</td>\n",
       "      <td>1</td>\n",
       "      <td>250</td>\n",
       "      <td>33</td>\n",
       "      <td>0</td>\n",
       "      <td>0.491</td>\n",
       "      <td>0.700000</td>\n",
       "      <td>...</td>\n",
       "      <td>1</td>\n",
       "      <td>0.910945</td>\n",
       "      <td>1</td>\n",
       "      <td>0</td>\n",
       "      <td>1</td>\n",
       "      <td>3</td>\n",
       "      <td>0</td>\n",
       "      <td>0</td>\n",
       "      <td>7</td>\n",
       "      <td>12</td>\n",
       "    </tr>\n",
       "  </tbody>\n",
       "</table>\n",
       "<p>267 rows × 50 columns</p>\n",
       "</div>"
      ],
      "text/plain": [
       "         filename  sex   age  corpus group  child_TNW  child_TNS  \\\n",
       "0    fssli009.cha  NaN  16.5  Conti4     1        287         36   \n",
       "1    fssli058.cha  NaN  17.2  Conti4     1        368         42   \n",
       "2    fssli062.cha  NaN  16.0  Conti4     1        266         26   \n",
       "3    fssli066.cha  NaN  18.4  Conti4     1        405         40   \n",
       "4    fssli108.cha  NaN  17.6  Conti4     1        300         35   \n",
       "..            ...  ...   ...     ...   ...        ...        ...   \n",
       "661    a-3-69.cha    1   9.3  Gillam     1        181         23   \n",
       "662    a-3-70.cha    0   9.3  Gillam     1        443         42   \n",
       "663    a-3-72.cha    1   8.6  Gillam     1        230         30   \n",
       "664    a-3-73.cha    1  10.0  Gillam     1        158         20   \n",
       "665    a-3-74.cha    0   8.6  Gillam     1        250         33   \n",
       "\n",
       "     examiner_TNW  freq_ttr  r_2_i_verbs  ...  word_errors       f_k  n_v  \\\n",
       "0               4     0.333     0.108108  ...            8  1.210456    0   \n",
       "1              27     0.274     0.050000  ...           16  1.871708    0   \n",
       "2               2     0.411     0.105263  ...            0  2.240602    0   \n",
       "3              21     0.359     0.148936  ...            4  1.877762    1   \n",
       "4              20     0.279     0.150000  ...            8  0.339524    0   \n",
       "..            ...       ...          ...  ...          ...       ...  ...   \n",
       "661             8     0.506     0.375000  ...            4  1.560898    0   \n",
       "662             0     0.461     0.325581  ...            0  2.161495    0   \n",
       "663            41     0.468     0.800000  ...            1  0.123478    0   \n",
       "664            40     0.488     1.000000  ...            3 -0.111532    1   \n",
       "665             0     0.491     0.700000  ...            1  0.910945    1   \n",
       "\n",
       "     n_aux  n_3s_v  det_n_pl  det_pl_n  pro_aux  pro_3s_v  total_error  \n",
       "0        2       2         7         0        0         1           12  \n",
       "1        4       0         5         0        0         0            9  \n",
       "2        1       0         5         0        0         0            6  \n",
       "3        0       0        11         0        0         0           12  \n",
       "4        1       1         5         0        0         0            7  \n",
       "..     ...     ...       ...       ...      ...       ...          ...  \n",
       "661      0       0         2         0        0         0            2  \n",
       "662      0       0         4         0        0         0            4  \n",
       "663      1       1         2         0        0         0            4  \n",
       "664      1       0         2         0        0         4            8  \n",
       "665      0       1         3         0        0         7           12  \n",
       "\n",
       "[267 rows x 50 columns]"
      ]
     },
     "execution_count": 11,
     "metadata": {},
     "output_type": "execute_result"
    }
   ],
   "source": [
    "data_df.loc[data_df['group'] == 1]"
   ]
  },
  {
   "cell_type": "markdown",
   "metadata": {},
   "source": [
    "##### 1. Нормальное распределение\n",
    "\n",
    "Проверить распределение total_error на нормальность в каждой группе"
   ]
  },
  {
   "cell_type": "code",
   "execution_count": 12,
   "metadata": {},
   "outputs": [
    {
     "data": {
      "image/png": "[encoded data removed]",
      "text/plain": [
       "<Figure size 864x288 with 3 Axes>"
      ]
     },
     "metadata": {},
     "output_type": "display_data"
    }
   ],
   "source": [
    "keys = list(data_df.corpus.unique())\n",
    "\n",
    "fig, axes = plt.subplots(ncols=len(keys))\n",
    "fig.set_size_inches(4 * len(keys), 4)\n",
    "axes = axes.flatten()\n",
    "\n",
    "for key, ax in zip(keys, axes):\n",
    "    ax.hist(data_df.loc[(data_df['corpus'] == key) , 'total_error'], density=True, bins=20)\n",
    "    \n",
    "    loc = data_df.loc[(data_df['corpus'] == key) , 'total_error'].mean()\n",
    "    scale = data_df.loc[(data_df['corpus'] == key) , 'total_error'].std()\n",
    "    \n",
    "    x_left, x_right = ax.get_xlim()\n",
    "    x = np.linspace(x_left, x_right, 10000)\n",
    "    y = stats.norm.pdf(x, loc=loc, scale=scale)\n",
    "    \n",
    "    ax.plot(x, y, linestyle='dashed')\n",
    "    ax.set_title(key)"
   ]
  },
  {
   "cell_type": "markdown",
   "metadata": {},
   "source": [
    "Из графиков видно, что распределение отлично от нормального. ПРоверим это с помощью QQ-plot. "
   ]
  },
  {
   "cell_type": "code",
   "execution_count": 13,
   "metadata": {},
   "outputs": [
    {
     "data": {
      "image/png": "[encoded data removed]",
      "text/plain": [
       "<Figure size 864x288 with 3 Axes>"
      ]
     },
     "metadata": {},
     "output_type": "display_data"
    }
   ],
   "source": [
    "fig, axes = plt.subplots(ncols=len(keys))\n",
    "fig.set_size_inches(4 * len(keys), 4)\n",
    "axes = axes.flatten()\n",
    "\n",
    "for key, ax in zip(keys, axes):\n",
    "    samples = data_df.loc[(data_df['corpus'] == key) , 'total_error']\n",
    "    \n",
    "    loc = samples.mean()\n",
    "    scale = samples.std()\n",
    "    \n",
    "    interval = np.linspace(0, 1, samples.shape[0])[1:-1]\n",
    "    x = stats.norm.ppf(interval, loc=loc, scale=scale)\n",
    "    y = np.quantile(samples, interval)\n",
    "    \n",
    "    ax.scatter(x, y, s=5)\n",
    "    ax.plot(x, x, color='C1', linestyle='dashed')\n",
    "    \n",
    "    ax.set_title(key)\n",
    "    ax.set_xlabel('теоретические квантили')\n",
    "    ax.set_ylabel('квантили выборки')"
   ]
  },
  {
   "cell_type": "markdown",
   "metadata": {},
   "source": [
    "Распределение не нормальное."
   ]
  },
  {
   "cell_type": "markdown",
   "metadata": {},
   "source": [
    "##### 2. Проверить гипотезу о том, что мат ожидание total_errors одинаковое во всех группах"
   ]
  },
  {
   "cell_type": "code",
   "execution_count": 14,
   "metadata": {},
   "outputs": [
    {
     "data": {
      "text/plain": [
       "['Conti4', 'ENNI', 'Gillam']"
      ]
     },
     "execution_count": 14,
     "metadata": {},
     "output_type": "execute_result"
    }
   ],
   "source": [
    "keys"
   ]
  },
  {
   "cell_type": "code",
   "execution_count": 16,
   "metadata": {},
   "outputs": [],
   "source": [
    "c4 = np.array(data_df.loc[(data_df['corpus'] == 'Conti4') , 'total_error'])\n",
    "en = np.array(data_df.loc[(data_df['corpus'] == 'ENNI') , 'total_error'])\n",
    "gil = np.array(data_df.loc[(data_df['corpus'] == 'Gillam') , 'total_error'])"
   ]
  },
  {
   "cell_type": "code",
   "execution_count": 17,
   "metadata": {},
   "outputs": [
    {
     "data": {
      "text/plain": [
       "(118, 377, 668)"
      ]
     },
     "execution_count": 17,
     "metadata": {},
     "output_type": "execute_result"
    }
   ],
   "source": [
    "c4_len = len(c4)\n",
    "en_len = len(en)\n",
    "gil_len = len(gil)\n",
    "\n",
    "c4_len, en_len, gil_len"
   ]
  },
  {
   "cell_type": "code",
   "execution_count": 18,
   "metadata": {},
   "outputs": [
    {
     "data": {
      "text/plain": [
       "(9.610169491525424, 20.641909814323608, 10.401197604790418)"
      ]
     },
     "execution_count": 18,
     "metadata": {},
     "output_type": "execute_result"
    }
   ],
   "source": [
    "c4_mean = c4.mean()\n",
    "en_mean = en.mean()\n",
    "gil_mean = gil.mean()\n",
    "\n",
    "c4_mean, en_mean, gil_mean"
   ]
  },
  {
   "cell_type": "code",
   "execution_count": 19,
   "metadata": {},
   "outputs": [
    {
     "data": {
      "text/plain": [
       "13.640584694754944"
      ]
     },
     "execution_count": 19,
     "metadata": {},
     "output_type": "execute_result"
    }
   ],
   "source": [
    "corpus = np.concatenate([c4, en, gil])\n",
    "corpus_mean = corpus.mean()\n",
    "corpus_mean"
   ]
  },
  {
   "cell_type": "code",
   "execution_count": 20,
   "metadata": {},
   "outputs": [
    {
     "data": {
      "text/plain": [
       "(27406.559738947544, 97473.20466346003)"
      ]
     },
     "execution_count": 20,
     "metadata": {},
     "output_type": "execute_result"
    }
   ],
   "source": [
    "SS_b = c4_len * (c4_mean - corpus_mean) ** 2 + en_len * (en_mean - corpus_mean) ** 2 + gil_len * (gil_mean - corpus_mean) ** 2\n",
    "\n",
    "SS_w = ((c4 - c4_mean) ** 2).sum() + ((en - en_mean) ** 2).sum() + ((gil - gil_mean) ** 2).sum()\n",
    "\n",
    "SS_b, SS_w"
   ]
  },
  {
   "cell_type": "code",
   "execution_count": 21,
   "metadata": {},
   "outputs": [
    {
     "data": {
      "text/plain": [
       "(13703.279869473772, 84.02862470987934)"
      ]
     },
     "execution_count": 21,
     "metadata": {},
     "output_type": "execute_result"
    }
   ],
   "source": [
    "k = 3\n",
    "n = len(corpus)\n",
    "\n",
    "k1 = k - 1\n",
    "k2 = n - k\n",
    "\n",
    "sigma2_b = SS_b / k1\n",
    "sigma2_w = SS_w / k2\n",
    "\n",
    "sigma2_b, sigma2_w"
   ]
  },
  {
   "cell_type": "code",
   "execution_count": 22,
   "metadata": {},
   "outputs": [
    {
     "data": {
      "text/plain": [
       "163.07871176978412"
      ]
     },
     "execution_count": 22,
     "metadata": {},
     "output_type": "execute_result"
    }
   ],
   "source": [
    "F = sigma2_b / sigma2_w\n",
    "F"
   ]
  },
  {
   "cell_type": "code",
   "execution_count": 23,
   "metadata": {},
   "outputs": [
    {
     "data": {
      "text/plain": [
       "3.003482172639214"
      ]
     },
     "execution_count": 23,
     "metadata": {},
     "output_type": "execute_result"
    }
   ],
   "source": [
    "alpha = 0.05\n",
    "\n",
    "t = stats.f.ppf(1 - alpha, k1, k2)\n",
    "t"
   ]
  },
  {
   "cell_type": "code",
   "execution_count": 24,
   "metadata": {},
   "outputs": [
    {
     "data": {
      "text/plain": [
       "<matplotlib.collections.PolyCollection at 0x151510d0>"
      ]
     },
     "execution_count": 24,
     "metadata": {},
     "output_type": "execute_result"
    },
    {
     "data": {
      "image/png": "[encoded data removed]",
      "text/plain": [
       "<Figure size 432x288 with 1 Axes>"
      ]
     },
     "metadata": {},
     "output_type": "display_data"
    }
   ],
   "source": [
    "ox = np.linspace(0, 6, 500)\n",
    "oy = stats.f.pdf(ox, k1, k2)\n",
    "\n",
    "ox_right = np.linspace(t, 6, 100)\n",
    "oy_right = stats.f.pdf(ox_right, k1, k2)\n",
    "\n",
    "plt.plot(ox, oy)\n",
    "plt.fill_between(ox_right, oy_right, alpha=0.5)"
   ]
  },
  {
   "cell_type": "code",
   "execution_count": 25,
   "metadata": {},
   "outputs": [
    {
     "data": {
      "text/plain": [
       "True"
      ]
     },
     "execution_count": 25,
     "metadata": {},
     "output_type": "execute_result"
    }
   ],
   "source": [
    "F>t"
   ]
  },
  {
   "cell_type": "markdown",
   "metadata": {},
   "source": [
    "F-статистика попадает в критическую область, значит, гипотеза отвергается. Мат.ожидание  total_error разное во всех группах."
   ]
  },
  {
   "cell_type": "markdown",
   "metadata": {},
   "source": [
    "##### 3.Проанализировать проявление SLI  взависимости от возраста в группе по одному набору заданий (Gillam)"
   ]
  },
  {
   "cell_type": "code",
   "execution_count": 27,
   "metadata": {},
   "outputs": [
    {
     "data": {
      "text/plain": [
       "[1, 0]"
      ]
     },
     "execution_count": 27,
     "metadata": {},
     "output_type": "execute_result"
    }
   ],
   "source": [
    "list(data_df.group.unique()) # 1 - SLI, 0 -TD"
   ]
  },
  {
   "cell_type": "code",
   "execution_count": 31,
   "metadata": {},
   "outputs": [
    {
     "data": {
      "text/plain": [
       "(497, 171)"
      ]
     },
     "execution_count": 31,
     "metadata": {},
     "output_type": "execute_result"
    }
   ],
   "source": [
    "sli = np.array(data_df.loc[(data_df['group'] == 1) & (data_df['corpus']=='Gillam')  , 'age'])\n",
    "td = np.array(data_df.loc[(data_df['group'] == 0) & (data_df['corpus']=='Gillam') , 'age'])\n",
    "\n",
    "len(td), len(sli)"
   ]
  },
  {
   "cell_type": "code",
   "execution_count": 32,
   "metadata": {},
   "outputs": [
    {
     "data": {
      "text/plain": [
       "(9.651461988304094, 9.79758551307847)"
      ]
     },
     "execution_count": 32,
     "metadata": {},
     "output_type": "execute_result"
    }
   ],
   "source": [
    "sli_mean = sli.mean()\n",
    "td_mean = td.mean()\n",
    "\n",
    "sli_mean, td_mean"
   ]
  },
  {
   "cell_type": "code",
   "execution_count": 33,
   "metadata": {},
   "outputs": [
    {
     "data": {
      "text/plain": [
       "9.760179640718563"
      ]
     },
     "execution_count": 33,
     "metadata": {},
     "output_type": "execute_result"
    }
   ],
   "source": [
    "groups = np.concatenate([sli, td])\n",
    "groups_mean = groups.mean()\n",
    "groups_mean"
   ]
  },
  {
   "cell_type": "code",
   "execution_count": 34,
   "metadata": {},
   "outputs": [
    {
     "data": {
      "text/plain": [
       "(2.7165413244955907, 2799.3642371186183)"
      ]
     },
     "execution_count": 34,
     "metadata": {},
     "output_type": "execute_result"
    }
   ],
   "source": [
    "SS_b = len(sli) * (sli_mean - groups_mean) ** 2 + len(td) * (td_mean - groups_mean) ** 2 \n",
    "\n",
    "SS_w = ((sli - sli_mean) ** 2).sum() + ((td - td_mean) ** 2).sum()\n",
    "\n",
    "SS_b, SS_w"
   ]
  },
  {
   "cell_type": "code",
   "execution_count": 35,
   "metadata": {},
   "outputs": [
    {
     "data": {
      "text/plain": [
       "(2.7165413244955907, 4.203249605283211)"
      ]
     },
     "execution_count": 35,
     "metadata": {},
     "output_type": "execute_result"
    }
   ],
   "source": [
    "k = 2\n",
    "n = len(groups)\n",
    "\n",
    "k1 = k - 1\n",
    "k2 = n - k\n",
    "\n",
    "sigma2_b = SS_b / k1\n",
    "sigma2_w = SS_w / k2\n",
    "\n",
    "sigma2_b, sigma2_w"
   ]
  },
  {
   "cell_type": "code",
   "execution_count": 36,
   "metadata": {},
   "outputs": [
    {
     "data": {
      "text/plain": [
       "0.6462955045736697"
      ]
     },
     "execution_count": 36,
     "metadata": {},
     "output_type": "execute_result"
    }
   ],
   "source": [
    "F = sigma2_b / sigma2_w\n",
    "F"
   ]
  },
  {
   "cell_type": "code",
   "execution_count": 37,
   "metadata": {},
   "outputs": [
    {
     "data": {
      "text/plain": [
       "3.8554591927196853"
      ]
     },
     "execution_count": 37,
     "metadata": {},
     "output_type": "execute_result"
    }
   ],
   "source": [
    "alpha = 0.05\n",
    "\n",
    "t = stats.f.ppf(1 - alpha, k1, k2)\n",
    "t"
   ]
  },
  {
   "cell_type": "code",
   "execution_count": 38,
   "metadata": {},
   "outputs": [
    {
     "data": {
      "text/plain": [
       "False"
      ]
     },
     "execution_count": 38,
     "metadata": {},
     "output_type": "execute_result"
    }
   ],
   "source": [
    "F>t"
   ]
  },
  {
   "cell_type": "markdown",
   "metadata": {},
   "source": [
    "Итак, критическая область:\n",
    "$$\\Omega_\\alpha = (3.855, \\infty)$$\n",
    "Значение статистики не попало в критическую область. Значит возраст не имеет статистическую значимость при выявлении специфического языкового нарушения (SLI)."
   ]
  },
  {
   "cell_type": "markdown",
   "metadata": {},
   "source": [
    "#### 4.Проверить есть ли корреляция между полом и нарушением речи\n",
    "\n",
    "В датасете есть выборки , в которых осутствует значение пола, исключим их из сравниваемых выборок."
   ]
  },
  {
   "cell_type": "code",
   "execution_count": 52,
   "metadata": {},
   "outputs": [],
   "source": [
    "sex = np.array(data_df.loc[(data_df['sex'] == 1) | (data_df['sex']== 0), 'sex'])\n",
    "group = np.array(data_df.loc[(data_df['sex'] == 1) | (data_df['sex']== 0), 'group'])"
   ]
  },
  {
   "cell_type": "code",
   "execution_count": 53,
   "metadata": {},
   "outputs": [
    {
     "data": {
      "text/plain": [
       "0.09023483264291995"
      ]
     },
     "execution_count": 53,
     "metadata": {},
     "output_type": "execute_result"
    }
   ],
   "source": [
    "np.corrcoef(sex, group)[0][1]"
   ]
  },
  {
   "cell_type": "code",
   "execution_count": 57,
   "metadata": {},
   "outputs": [
    {
     "data": {
      "text/plain": [
       "1044"
      ]
     },
     "execution_count": 57,
     "metadata": {},
     "output_type": "execute_result"
    }
   ],
   "source": [
    "len(sex)==len(group)"
   ]
  },
  {
   "cell_type": "code",
   "execution_count": 58,
   "metadata": {},
   "outputs": [],
   "source": [
    "def statistic(x: np.ndarray, y: np.ndarray) -> float:\n",
    "    if len(x) == len(y):\n",
    "        cov = ((x - x.mean()) * (y - y.mean())).sum() / (len(x) - 1)\n",
    "        corr = cov / (x.std(ddof = 1) * y.std(ddof = 1))\n",
    "        return (corr * (len(x) - 2) ** 0.5 / (1 - corr ** 2) ** 0.5)"
   ]
  },
  {
   "cell_type": "code",
   "execution_count": 59,
   "metadata": {},
   "outputs": [
    {
     "data": {
      "text/plain": [
       "2.9247139566491405"
      ]
     },
     "execution_count": 59,
     "metadata": {},
     "output_type": "execute_result"
    }
   ],
   "source": [
    "t = statistic(sex, group)\n",
    "t"
   ]
  },
  {
   "cell_type": "code",
   "execution_count": 60,
   "metadata": {},
   "outputs": [
    {
     "data": {
      "text/plain": [
       "(-1.9622432382037247, 1.9622432382037243)"
      ]
     },
     "execution_count": 60,
     "metadata": {},
     "output_type": "execute_result"
    }
   ],
   "source": [
    "alpha = 0.05\n",
    "n = len(sex)\n",
    "\n",
    "t1 = stats.t.ppf(alpha / 2, df = n - 2)\n",
    "t2 = stats.t.ppf(1 - alpha / 2, df = n - 2)\n",
    "\n",
    "t1, t2"
   ]
  },
  {
   "cell_type": "code",
   "execution_count": 61,
   "metadata": {},
   "outputs": [
    {
     "data": {
      "text/plain": [
       "False"
      ]
     },
     "execution_count": 61,
     "metadata": {},
     "output_type": "execute_result"
    }
   ],
   "source": [
    "t1 < t < t2"
   ]
  },
  {
   "cell_type": "markdown",
   "metadata": {},
   "source": [
    "Итак, критическая область:\n",
    "$$\\Omega_\\alpha = (-\\infty, -1.96) \\cup (1.96, \\infty)$$\n",
    "Значение статистики попало в критическую область, значит нулевую гипотезу отвергаем. Влияние пола статистически не значимо для выявления нарушений речи."
   ]
  },
  {
   "cell_type": "code",
   "execution_count": null,
   "metadata": {},
   "outputs": [],
   "source": []
  }
 ],
 "metadata": {
  "kernelspec": {
   "display_name": "Python 3",
   "language": "python",
   "name": "python3"
  },
  "language_info": {
   "codemirror_mode": {
    "name": "ipython",
    "version": 3
   },
   "file_extension": ".py",
   "mimetype": "text/x-python",
   "name": "python",
   "nbconvert_exporter": "python",
   "pygments_lexer": "ipython3",
   "version": "3.8.1"
  }
 },
 "nbformat": 4,
 "nbformat_minor": 4
}
